{
 "cells": [
  {
   "cell_type": "code",
   "execution_count": 1,
   "metadata": {},
   "outputs": [],
   "source": [
    "from pyincore import InsecureIncoreClient, DataService, InventoryDataset\n",
    "from pyincore import HazardService, FragilityService\n",
    "from pyincore import PlotUtil, AnalysisUtil\n",
    "import json\n",
    "import time\n",
    "import geopandas as gpd\n",
    "from matplotlib import cm\n",
    "import pandas as pd\n",
    "import numpy as np"
   ]
  },
  {
   "cell_type": "code",
   "execution_count": 2,
   "metadata": {},
   "outputs": [],
   "source": [
    "client = InsecureIncoreClient(\"http://incore2-services.ncsa.illinois.edu:8888\", \"jonglee\")"
   ]
  },
  {
   "cell_type": "markdown",
   "metadata": {},
   "source": [
    "# Data Service Module \n",
    "A python module to communicate IN-CORE data service\n",
    "- query/search dataset\n",
    "- download dataset\n",
    "- upload dataset"
   ]
  },
  {
   "cell_type": "code",
   "execution_count": 3,
   "metadata": {},
   "outputs": [],
   "source": [
    "#Initialize data service\n",
    "datasvc = DataService(client)"
   ]
  },
  {
   "cell_type": "code",
   "execution_count": 4,
   "metadata": {},
   "outputs": [
    {
     "data": {
      "text/plain": [
       "[{'id': '5a284f42c7d30d13bc0821ba',\n",
       "  'deleted': False,\n",
       "  'title': 'Shelby County Essential Facilities',\n",
       "  'description': '',\n",
       "  'date': '2017-12-06T14:12:50-0600',\n",
       "  'creator': 'ergo',\n",
       "  'contributors': [],\n",
       "  'fileDescriptors': [{'id': '5a284f42c7d30d13bc0821bd',\n",
       "    'deleted': False,\n",
       "    'filename': 'shelby_county_ef.dbf',\n",
       "    'mimeType': 'application/octet-stream',\n",
       "    'size': 49029,\n",
       "    'dataURL': 'file:/home/incore/data/5a/28/5a284f42c7d30d13bc0821bd/shelby_county_ef.dbf',\n",
       "    'md5sum': 'a6a319c9e37ca66543202ee340b4d84d'},\n",
       "   {'id': '5a284f42c7d30d13bc0821c0',\n",
       "    'deleted': False,\n",
       "    'filename': 'shelby_county_ef.fix',\n",
       "    'mimeType': 'application/octet-stream',\n",
       "    'size': 1897,\n",
       "    'dataURL': 'file:/home/incore/data/5a/28/5a284f42c7d30d13bc0821c0/shelby_county_ef.fix',\n",
       "    'md5sum': 'ece074b7ed9710f89434c6db1bc1fc6c'},\n",
       "   {'id': '5a284f43c7d30d13bc0821c3',\n",
       "    'deleted': False,\n",
       "    'filename': 'shelby_county_ef.prj',\n",
       "    'mimeType': 'application/octet-stream',\n",
       "    'size': 220,\n",
       "    'dataURL': 'file:/home/incore/data/5a/28/5a284f43c7d30d13bc0821c3/shelby_county_ef.prj',\n",
       "    'md5sum': 'fc3a82d8ddfa21ccd89fc17f58d06692'},\n",
       "   {'id': '5a284f43c7d30d13bc0821c6',\n",
       "    'deleted': False,\n",
       "    'filename': 'shelby_county_ef.qix',\n",
       "    'mimeType': 'application/octet-stream',\n",
       "    'size': 688,\n",
       "    'dataURL': 'file:/home/incore/data/5a/28/5a284f43c7d30d13bc0821c6/shelby_county_ef.qix',\n",
       "    'md5sum': '9936871e0b8c13661f4a04cbc62814a5'},\n",
       "   {'id': '5a284f43c7d30d13bc0821c9',\n",
       "    'deleted': False,\n",
       "    'filename': 'shelby_county_ef.shp',\n",
       "    'mimeType': 'application/octet-stream',\n",
       "    'size': 4496,\n",
       "    'dataURL': 'file:/home/incore/data/5a/28/5a284f43c7d30d13bc0821c9/shelby_county_ef.shp',\n",
       "    'md5sum': 'f2e632e318749c0a82f74640f27e8791'},\n",
       "   {'id': '5a284f43c7d30d13bc0821cc',\n",
       "    'deleted': False,\n",
       "    'filename': 'shelby_county_ef.shx',\n",
       "    'mimeType': 'application/octet-stream',\n",
       "    'size': 1356,\n",
       "    'dataURL': 'file:/home/incore/data/5a/28/5a284f43c7d30d13bc0821cc/shelby_county_ef.shx',\n",
       "    'md5sum': 'dbb088a46cb127cc18f0d84e704e63a'}],\n",
       "  'dataType': 'ergo:buildingInventoryVer4',\n",
       "  'storedUrl': '',\n",
       "  'format': 'shapefile',\n",
       "  'sourceDataset': '',\n",
       "  'spaces': ['ergo'],\n",
       "  'privileges': {'userPrivileges': {},\n",
       "   'groupPrivileges': {'incore_user': 'READ'}}},\n",
       " {'id': '5ade51daec2309045650c157',\n",
       "  'deleted': False,\n",
       "  'title': 'Shelby County Essential Facilities v5',\n",
       "  'description': 'Essential facility buildings in Shelby county, TN (v5)',\n",
       "  'date': '2018-04-23T16:36:26-0500',\n",
       "  'creator': 'jonglee',\n",
       "  'contributors': [],\n",
       "  'fileDescriptors': [{'id': '5ade5257ec2309045650c623',\n",
       "    'deleted': False,\n",
       "    'filename': 'shelby-ess-bldg-v5.dbf',\n",
       "    'mimeType': 'application/octet-stream',\n",
       "    'size': 315499,\n",
       "    'dataURL': 'file:/home/incore/data/5a/de/5ade5257ec2309045650c623/shelby-ess-bldg-v5.dbf',\n",
       "    'md5sum': 'ca484a6a550a60001e8a641440887e17'},\n",
       "   {'id': '5ade5258ec2309045650c626',\n",
       "    'deleted': False,\n",
       "    'filename': 'shelby-ess-bldg-v5.shp',\n",
       "    'mimeType': 'application/octet-stream',\n",
       "    'size': 20344,\n",
       "    'dataURL': 'file:/home/incore/data/5a/de/5ade5258ec2309045650c626/shelby-ess-bldg-v5.shp',\n",
       "    'md5sum': '42817d3ecabf2d59b9b1877e9a7e694c'},\n",
       "   {'id': '5ade5258ec2309045650c629',\n",
       "    'deleted': False,\n",
       "    'filename': 'shelby-ess-bldg-v5.prj',\n",
       "    'mimeType': 'application/octet-stream',\n",
       "    'size': 143,\n",
       "    'dataURL': 'file:/home/incore/data/5a/de/5ade5258ec2309045650c629/shelby-ess-bldg-v5.prj',\n",
       "    'md5sum': 'e729936bf5360b37a15365fc295a1901'},\n",
       "   {'id': '5ade5258ec2309045650c62c',\n",
       "    'deleted': False,\n",
       "    'filename': 'shelby-ess-bldg-v5.shx',\n",
       "    'mimeType': 'application/octet-stream',\n",
       "    'size': 5884,\n",
       "    'dataURL': 'file:/home/incore/data/5a/de/5ade5258ec2309045650c62c/shelby-ess-bldg-v5.shx',\n",
       "    'md5sum': '3f42242fe038244f1754043533e7dbd9'}],\n",
       "  'dataType': 'ergo:buildingInventoryVer5',\n",
       "  'storedUrl': '',\n",
       "  'format': 'shapefile',\n",
       "  'sourceDataset': '',\n",
       "  'spaces': [],\n",
       "  'privileges': {'userPrivileges': {'jonglee': 'ADMIN'},\n",
       "   'groupPrivileges': {}}}]"
      ]
     },
     "execution_count": 4,
     "metadata": {},
     "output_type": "execute_result"
    }
   ],
   "source": [
    "#Search dataset with title containing \"essential\"\n",
    "datasvc.get_datasets(title=\"essential\")"
   ]
  },
  {
   "cell_type": "code",
   "execution_count": 5,
   "metadata": {},
   "outputs": [
    {
     "name": "stdout",
     "output_type": "stream",
     "text": [
      "It already exsists; no unzip\n"
     ]
    }
   ],
   "source": [
    "#Sample dataset: 5ade51daec2309045650c157 (Shelby county essential facility)\n",
    "#Download the dataset \n",
    "dataset_id = \"5ade51daec2309045650c157\"\n",
    "ess_dataset = datasvc.get_dataset_metadata(dataset_id)\n",
    "ess = datasvc.get_dataset_blob(ess_dataset['id'])"
   ]
  },
  {
   "cell_type": "code",
   "execution_count": 6,
   "metadata": {},
   "outputs": [],
   "source": [
    "buildings = InventoryDataset(ess)"
   ]
  },
  {
   "cell_type": "code",
   "execution_count": 7,
   "metadata": {},
   "outputs": [],
   "source": [
    "gdf = gpd.GeoDataFrame.from_features(buildings.inventory_set)"
   ]
  },
  {
   "cell_type": "code",
   "execution_count": 8,
   "metadata": {},
   "outputs": [
    {
     "data": {
      "text/plain": [
       "(723, 31)"
      ]
     },
     "execution_count": 8,
     "metadata": {},
     "output_type": "execute_result"
    }
   ],
   "source": [
    "gdf.shape"
   ]
  },
  {
   "cell_type": "code",
   "execution_count": 9,
   "metadata": {},
   "outputs": [
    {
     "data": {
      "text/html": [
       "<div style=\"width:100%;\"><div style=\"position:relative;width:100%;height:0;padding-bottom:60%;\"><iframe src=\"data:text/html;charset=utf-8;base64,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\" style=\"position:absolute;width:100%;height:100%;left:0;top:0;border:none !important;\" allowfullscreen webkitallowfullscreen mozallowfullscreen></iframe></div></div>"
      ],
      "text/plain": [
       "<folium.folium.Map at 0x7f5648ca50b8>"
      ]
     },
     "execution_count": 9,
     "metadata": {},
     "output_type": "execute_result"
    }
   ],
   "source": [
    "# Using Geospatial Visualization Service \n",
    "layers = [{'id': dataset_id,'name': 'Essential Facilities', 'style':''}]\n",
    "PlotUtil.get_wms_map(layers)"
   ]
  },
  {
   "cell_type": "markdown",
   "metadata": {},
   "source": [
    "# Hazard Service Module\n",
    "A Python module to communicate with hazard service \n",
    "- create a scenario earthquake or a scenario tornado\n",
    "- query a hazard value at a location for a given scenario hazard "
   ]
  },
  {
   "cell_type": "code",
   "execution_count": 10,
   "metadata": {},
   "outputs": [],
   "source": [
    "hazardsvc = HazardService(client)"
   ]
  },
  {
   "cell_type": "markdown",
   "metadata": {},
   "source": [
    "## Creating a scenario earthquake"
   ]
  },
  {
   "cell_type": "code",
   "execution_count": 11,
   "metadata": {},
   "outputs": [],
   "source": [
    "#A configuration of a scenario earthquake\n",
    "# attenuation function, epicener, magnitude, depth, etc.\n",
    "eq_config = {\n",
    "  \"attenuations\": {\n",
    "    \"AtkinsonBoore1995\": \"1.0\"\n",
    "  },\n",
    "  \"eqParameters\": {\n",
    "    \"srcLatitude\": \"35.927\",\n",
    "    \"srcLongitude\": \"-89.919\",\n",
    "    \"magnitude\": \"7.9\",\n",
    "    \"depth\": \"10.0\"\n",
    "  },\n",
    "  \"visualizationParameters\": {\n",
    "    \"demandType\": \"PGA\",\n",
    "    \"demandUnits\": \"g\",\n",
    "    \"minX\": \"-90.3099\",\n",
    "    \"minY\": \"34.9942\",\n",
    "    \"maxX\": \"-89.6231\",\n",
    "    \"maxY\": \"35.4129\",\n",
    "    \"numPoints\": \"1025\",\n",
    "    \"amplifyHazard\": \"true\"\n",
    "  }\n",
    "}"
   ]
  },
  {
   "cell_type": "code",
   "execution_count": 12,
   "metadata": {},
   "outputs": [],
   "source": [
    "#Create a scenario earthquake with the configuration\n",
    "eq = hazardsvc.create_earthquake(json.dumps(eq_config))"
   ]
  },
  {
   "cell_type": "code",
   "execution_count": 13,
   "metadata": {},
   "outputs": [
    {
     "data": {
      "text/plain": [
       "{'id': '5ae92e5fec23093994d26542',\n",
       " 'attenuations': {'AtkinsonBoore1995': 1.0},\n",
       " 'eqParameters': {'srcLatitude': 35.927,\n",
       "  'srcLongitude': -89.919,\n",
       "  'magnitude': 7.9,\n",
       "  'coseismicRuptureDepth': 0.0,\n",
       "  'dipAngle': 0.0,\n",
       "  'azimuthAngle': 0.0,\n",
       "  'rakeAngle': 0.0,\n",
       "  'seismogenicDepth': 0.0,\n",
       "  'depth': 10.0,\n",
       "  'depth2p5KmPerSecShearWaveVelocity': 2.0,\n",
       "  'shearWaveDepth1p0': 0.0,\n",
       "  'faultTypeMap': {},\n",
       "  'region': 'Global'},\n",
       " 'visualizationParameters': {'demandType': 'PGA',\n",
       "  'demandUnits': 'g',\n",
       "  'minX': -90.3099,\n",
       "  'minY': 34.9942,\n",
       "  'maxX': -89.6231,\n",
       "  'maxY': 35.4129,\n",
       "  'numPoints': 1025,\n",
       "  'amplifyHazard': True},\n",
       " 'siteClassDataset': None,\n",
       " 'privileges': {'userPrivileges': {'jonglee': 'ADMIN'}, 'groupPrivileges': {}},\n",
       " 'defaultSiteClass': 'D',\n",
       " 'siteAmplification': 'NEHRP',\n",
       " 'rasterDatasetId': '5ae92e5fec230939943dde3e'}"
      ]
     },
     "execution_count": 13,
     "metadata": {},
     "output_type": "execute_result"
    }
   ],
   "source": [
    "eq"
   ]
  },
  {
   "cell_type": "code",
   "execution_count": 14,
   "metadata": {},
   "outputs": [
    {
     "data": {
      "text/html": [
       "<div style=\"width:100%;\"><div style=\"position:relative;width:100%;height:0;padding-bottom:60%;\"><iframe src=\"data:text/html;charset=utf-8;base64,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\" style=\"position:absolute;width:100%;height:100%;left:0;top:0;border:none !important;\" allowfullscreen webkitallowfullscreen mozallowfullscreen></iframe></div></div>"
      ],
      "text/plain": [
       "<folium.folium.Map at 0x7f5648ccc358>"
      ]
     },
     "execution_count": 14,
     "metadata": {},
     "output_type": "execute_result"
    }
   ],
   "source": [
    "#Visualize the building dataset and a scenario earthquake\n",
    "layers = [\n",
    "    {'id': eq['rasterDatasetId'],'name': 'earthquake', 'style':'earthquake-pga-g'},\n",
    "    {'id': dataset_id,'name': 'Essential Facilities', 'style':''}\n",
    "]\n",
    "PlotUtil.get_wms_map(layers)"
   ]
  },
  {
   "cell_type": "markdown",
   "metadata": {},
   "source": [
    "## Getting hazard value at 35.07899, -90.0178"
   ]
  },
  {
   "cell_type": "code",
   "execution_count": 15,
   "metadata": {},
   "outputs": [
    {
     "data": {
      "text/plain": [
       "0.5322993805448739"
      ]
     },
     "execution_count": 15,
     "metadata": {},
     "output_type": "execute_result"
    }
   ],
   "source": [
    "hazardsvc.get_earthquake_hazard_value(eq['id'], \"0.2 SA\", \"g\", 35.07899, -90.0178)"
   ]
  },
  {
   "cell_type": "markdown",
   "metadata": {},
   "source": [
    "## Creating a scenario tornado"
   ]
  },
  {
   "cell_type": "code",
   "execution_count": 16,
   "metadata": {},
   "outputs": [],
   "source": [
    "#Tornado configuration\n",
    "# Mean width tornado\n",
    "# EF rating, start and end positions\n",
    "tornado_config = {\n",
    "    \"tornadoModel\" : \"MeanWidthTornado\",\n",
    "    \"tornadoParameters\" : { \n",
    "        \"efRating\" : \"EF5\",\n",
    "        \"startLatitude\" : \"35.092\",\n",
    "        \"startLongitude\" : \"-90.091\",\n",
    "        \"randomSeed\" : \"1234\",\n",
    "        \"endLatitude\" : [35.268],\n",
    "        \"endLongitude\" : [-89.758],\n",
    "        \"windSpeedMethod\" : \"1\" \n",
    "    }\n",
    "}"
   ]
  },
  {
   "cell_type": "code",
   "execution_count": 17,
   "metadata": {},
   "outputs": [],
   "source": [
    "tornado=hazardsvc.create_tornado_scenario(json.dumps(tornado_config))"
   ]
  },
  {
   "cell_type": "code",
   "execution_count": 18,
   "metadata": {},
   "outputs": [
    {
     "data": {
      "text/plain": [
       "{'id': '5ae92e6bec23093994d26543',\n",
       " 'tornadoModel': 'MeanWidthTornado',\n",
       " 'numSimulations': 1,\n",
       " 'tornadoParameters': {'efRating': 'EF5',\n",
       "  'maxWindSpeed': 250.0,\n",
       "  'startLatitude': 35.092,\n",
       "  'startLongitude': -90.091,\n",
       "  'randomSeed': 1234,\n",
       "  'windSpeedMethod': 1,\n",
       "  'endLatitude': [35.268],\n",
       "  'endLongitude': [-89.758]},\n",
       " 'tornadoWidth': [815.9980909090909],\n",
       " 'efBoxes': [{'efBoxWidths': [0.001002256638187928,\n",
       "    0.0017328393158413994,\n",
       "    0.0022321320000668874,\n",
       "    0.0027387672237662794,\n",
       "    0.003205018480359198,\n",
       "    0.003671269736952117]}],\n",
       " 'tornadoDatasetId': '5ae92e6bec230939943dde4a',\n",
       " 'privileges': {'userPrivileges': {'jonglee': 'ADMIN'}, 'groupPrivileges': {}}}"
      ]
     },
     "execution_count": 18,
     "metadata": {},
     "output_type": "execute_result"
    }
   ],
   "source": [
    "tornado"
   ]
  },
  {
   "cell_type": "code",
   "execution_count": 19,
   "metadata": {},
   "outputs": [
    {
     "data": {
      "text/html": [
       "<div style=\"width:100%;\"><div style=\"position:relative;width:100%;height:0;padding-bottom:60%;\"><iframe src=\"data:text/html;charset=utf-8;base64,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\" style=\"position:absolute;width:100%;height:100%;left:0;top:0;border:none !important;\" allowfullscreen webkitallowfullscreen mozallowfullscreen></iframe></div></div>"
      ],
      "text/plain": [
       "<folium.folium.Map at 0x7f56445f9400>"
      ]
     },
     "execution_count": 19,
     "metadata": {},
     "output_type": "execute_result"
    }
   ],
   "source": [
    "#Visualize the a scenario tornado and buliding inventory\n",
    "layers = [\n",
    "    {'id': tornado['tornadoDatasetId'],'name': 'tornado', 'style':'tornado1'},\n",
    "    {'id': dataset_id,'name': 'Essential Facilities', 'style':''}\n",
    "]\n",
    "PlotUtil.get_wms_map(layers)"
   ]
  },
  {
   "cell_type": "markdown",
   "metadata": {},
   "source": [
    "## Getting a hazard value at 35.19487, -89.89712"
   ]
  },
  {
   "cell_type": "code",
   "execution_count": 20,
   "metadata": {},
   "outputs": [
    {
     "data": {
      "text/plain": [
       "180.0189470412063"
      ]
     },
     "execution_count": 20,
     "metadata": {},
     "output_type": "execute_result"
    }
   ],
   "source": [
    "hazardsvc.get_tornado_hazard_value(tornado['id'], \"mph\", 35.19487, -89.89712)"
   ]
  },
  {
   "cell_type": "code",
   "execution_count": 21,
   "metadata": {},
   "outputs": [
    {
     "data": {
      "text/plain": [
       "133.0320513405737"
      ]
     },
     "execution_count": 21,
     "metadata": {},
     "output_type": "execute_result"
    }
   ],
   "source": [
    "hazardsvc.get_tornado_hazard_value(tornado['id'], \"mph\", 35.24071, -89.81117)"
   ]
  },
  {
   "cell_type": "markdown",
   "metadata": {},
   "source": [
    "# Fragility Service Module\n",
    "A python module to communicate with Fragility Service\n",
    "- Query fragility service\n",
    "- Find (map) a fragility curve to a specific building\n",
    "- mapping info (how to match a building to a fragility curve set"
   ]
  },
  {
   "cell_type": "code",
   "execution_count": 22,
   "metadata": {},
   "outputs": [],
   "source": [
    "fragilitysvc = FragilityService(client)"
   ]
  },
  {
   "cell_type": "code",
   "execution_count": 23,
   "metadata": {},
   "outputs": [],
   "source": [
    "aBuilding = buildings.inventory_set[0]"
   ]
  },
  {
   "cell_type": "code",
   "execution_count": 24,
   "metadata": {},
   "outputs": [
    {
     "data": {
      "text/plain": [
       "{'type': 'Feature',\n",
       " 'id': '0',\n",
       " 'geometry': {'type': 'Point',\n",
       "  'coordinates': (-89.89352834234703, 35.20327006574139)},\n",
       " 'properties': OrderedDict([('parid', '088012  00133C'),\n",
       "              ('parid_card', '088012  00133C_1'),\n",
       "              ('bldg_id', '088012  00133C_1_1'),\n",
       "              ('struct_typ', 'S1'),\n",
       "              ('str_prob', 1.0),\n",
       "              ('year_built', 1997),\n",
       "              ('no_stories', 1),\n",
       "              ('a_stories', 1),\n",
       "              ('b_stories', 0),\n",
       "              ('bsmt_type', 'NONE'),\n",
       "              ('sq_foot', 19592),\n",
       "              ('gsq_foot', 19592),\n",
       "              ('occ_type', 'COM7'),\n",
       "              ('occ_detail', 'OFFICE MEDICAL'),\n",
       "              ('major_occ', 'OFFICE MEDICAL'),\n",
       "              ('broad_occ', 'Office Commercial'),\n",
       "              ('appr_bldg', 1015500),\n",
       "              ('repl_cst', 2328169),\n",
       "              ('str_cst', 395789),\n",
       "              ('nstra_cst', 942909),\n",
       "              ('nstrd_cst', 989472),\n",
       "              ('dgn_lvl', 'Moderate - Code'),\n",
       "              ('cont_val', 3492254),\n",
       "              ('efacility', 'EFMC'),\n",
       "              ('dwell_unit', 0),\n",
       "              ('str_typ2', 'S1L'),\n",
       "              ('occ_typ2', 'COM7'),\n",
       "              ('tract_id', '47157020621'),\n",
       "              ('guid', 'a75b3bf9-db24-4494-959b-610b24d80444'),\n",
       "              ('IMPUTED', 'F')])}"
      ]
     },
     "execution_count": 24,
     "metadata": {},
     "output_type": "execute_result"
    }
   ],
   "source": [
    "aBuilding"
   ]
  },
  {
   "cell_type": "code",
   "execution_count": 25,
   "metadata": {},
   "outputs": [
    {
     "data": {
      "text/plain": [
       "{'0': {'id': '5aa9858a949f232724db2d4c',\n",
       "  'legacyId': 'STR_PFM_MTB_UL_475_S1_4',\n",
       "  'description': 'Low-Rise Steel Moment Frame',\n",
       "  'authors': ['Amr S. Elnashai', 'Seong-Hoon Jeong', 'Joshua S. Steelman'],\n",
       "  'paperReference': None,\n",
       "  'resultUnit': None,\n",
       "  'resultType': 'Limit State',\n",
       "  'demandType': 'PGA',\n",
       "  'demandUnits': 'g',\n",
       "  'hazardType': 'earthquake',\n",
       "  'inventoryType': 'building',\n",
       "  'fragilityCurves': [{'className': 'edu.illinois.ncsa.incore.service.fragility.models.PeriodStandardFragilityCurve',\n",
       "    'description': 'Moderate',\n",
       "    'median': -1.485,\n",
       "    'beta': 0.441,\n",
       "    'curveType': 'LogNormal',\n",
       "    'periodParam2': 0.0,\n",
       "    'periodParam1': 0.0,\n",
       "    'periodParam0': 0.5,\n",
       "    'periodEqnType': 1},\n",
       "   {'className': 'edu.illinois.ncsa.incore.service.fragility.models.PeriodStandardFragilityCurve',\n",
       "    'description': 'Extensive',\n",
       "    'median': -0.962,\n",
       "    'beta': 0.441,\n",
       "    'curveType': 'LogNormal',\n",
       "    'periodParam2': 0.0,\n",
       "    'periodParam1': 0.0,\n",
       "    'periodParam0': 0.5,\n",
       "    'periodEqnType': 1},\n",
       "   {'className': 'edu.illinois.ncsa.incore.service.fragility.models.PeriodStandardFragilityCurve',\n",
       "    'description': 'Complete',\n",
       "    'median': -0.332,\n",
       "    'beta': 0.441,\n",
       "    'curveType': 'LogNormal',\n",
       "    'periodParam2': 0.0,\n",
       "    'periodParam1': 0.0,\n",
       "    'periodParam0': 0.5,\n",
       "    'periodEqnType': 1}],\n",
       "  'privileges': None,\n",
       "  'creator': None}}"
      ]
     },
     "execution_count": 25,
     "metadata": {},
     "output_type": "execute_result"
    }
   ],
   "source": [
    "# Find a fragility curve with a given building\n",
    "eq_fragility_mapping_id = \"5aa9858d949f232724db46bd\"\n",
    "fragility_set = fragilitysvc.map_fragilities(eq_fragility_mapping_id, [aBuilding], \"Non-Retrofit Fragility ID Code\")\n",
    "fragility_set"
   ]
  },
  {
   "cell_type": "code",
   "execution_count": 26,
   "metadata": {},
   "outputs": [
    {
     "data": {
      "text/plain": [
       "<module 'matplotlib.pyplot' from '/opt/conda/lib/python3.6/site-packages/matplotlib/pyplot.py'>"
      ]
     },
     "execution_count": 26,
     "metadata": {},
     "output_type": "execute_result"
    },
    {
     "data": {
      "image/png": "[encoded data removed]",
      "text/plain": [
       "<Figure size 432x288 with 1 Axes>"
      ]
     },
     "metadata": {},
     "output_type": "display_data"
    }
   ],
   "source": [
    "PlotUtil.get_fragility_plot(fragility_set[aBuilding['id']])"
   ]
  },
  {
   "cell_type": "markdown",
   "metadata": {},
   "source": [
    "# Building Damage Analysis Module\n",
    "A python module to compute building damage with inventory dataset and given hazard\n",
    "- Hazard module and Fragility module are embed"
   ]
  },
  {
   "cell_type": "code",
   "execution_count": 27,
   "metadata": {},
   "outputs": [
    {
     "name": "stdout",
     "output_type": "stream",
     "text": [
      "It already exsists; no unzip\n"
     ]
    }
   ],
   "source": [
    "# Acquire damage ratio dataset\n",
    "damage_ratio_id = \"5a284f2ec7d30d13bc08209a\"\n",
    "dmg_ratio = datasvc.get_dataset_blob(damage_ratio_id)"
   ]
  },
  {
   "cell_type": "code",
   "execution_count": 28,
   "metadata": {},
   "outputs": [],
   "source": [
    "from pyincore.analyses.buildingdamage import BuildingDamage"
   ]
  },
  {
   "cell_type": "markdown",
   "metadata": {},
   "source": [
    "## Building damage with earthquake hazard"
   ]
  },
  {
   "cell_type": "code",
   "execution_count": 29,
   "metadata": {},
   "outputs": [],
   "source": [
    "mapping_id = \"5aa9858d949f232724db46bd\"\n",
    "\n",
    "# Initialize BulidingDamge class\n",
    "## it will use Hazard and Fragility module\n",
    "bldgDmg = BuildingDamage(client, \"earthquake/\"+eq['id'], dmg_ratio)"
   ]
  },
  {
   "cell_type": "code",
   "execution_count": 30,
   "metadata": {},
   "outputs": [
    {
     "name": "stdout",
     "output_type": "stream",
     "text": [
      "8.847334146499634 sec\n"
     ]
    }
   ],
   "source": [
    "start = time.time()\n",
    "output = bldgDmg.get_damage(buildings.inventory_set, mapping_id, 2, None, 1)\n",
    "end = time.time()\n",
    "print(str(end - start)+ \" sec\")"
   ]
  },
  {
   "cell_type": "code",
   "execution_count": 33,
   "metadata": {},
   "outputs": [
    {
     "name": "stdout",
     "output_type": "stream",
     "text": [
      "2.0986642837524414 sec\n"
     ]
    }
   ],
   "source": [
    "start = time.time()\n",
    "output = bldgDmg.get_damage(buildings.inventory_set, mapping_id, 2, None, 10)\n",
    "end = time.time()\n",
    "print(str(end - start)+ \" sec\")"
   ]
  },
  {
   "cell_type": "markdown",
   "metadata": {},
   "source": [
    "## Buliding damage  with tornado hazard"
   ]
  },
  {
   "cell_type": "code",
   "execution_count": 34,
   "metadata": {},
   "outputs": [],
   "source": [
    "tornado_mapping_id = \"5ae0e51fff771b3240b6cce6\"\n",
    "bldgDmg_tornado = BuildingDamage(client, \"tornado/\"+tornado['id'], dmg_ratio)"
   ]
  },
  {
   "cell_type": "code",
   "execution_count": 36,
   "metadata": {},
   "outputs": [
    {
     "name": "stdout",
     "output_type": "stream",
     "text": [
      "2.079888105392456 sec\n"
     ]
    }
   ],
   "source": [
    "start = time.time()\n",
    "output = bldgDmg_tornado.get_damage(buildings.inventory_set, tornado_mapping_id, 2, None, 15)\n",
    "end = time.time()\n",
    "print(str(end - start)+ \" sec\")"
   ]
  },
  {
   "cell_type": "code",
   "execution_count": 37,
   "metadata": {},
   "outputs": [],
   "source": [
    "df = pd.read_csv(output)"
   ]
  },
  {
   "cell_type": "code",
   "execution_count": 38,
   "metadata": {},
   "outputs": [
    {
     "data": {
      "text/html": [
       "<div>\n",
       "<style scoped>\n",
       "    .dataframe tbody tr th:only-of-type {\n",
       "        vertical-align: middle;\n",
       "    }\n",
       "\n",
       "    .dataframe tbody tr th {\n",
       "        vertical-align: top;\n",
       "    }\n",
       "\n",
       "    .dataframe thead th {\n",
       "        text-align: right;\n",
       "    }\n",
       "</style>\n",
       "<table border=\"1\" class=\"dataframe\">\n",
       "  <thead>\n",
       "    <tr style=\"text-align: right;\">\n",
       "      <th></th>\n",
       "      <th>guid</th>\n",
       "      <th>immocc</th>\n",
       "      <th>lifesfty</th>\n",
       "      <th>collprev</th>\n",
       "      <th>insignific</th>\n",
       "      <th>moderate</th>\n",
       "      <th>heavy</th>\n",
       "      <th>complete</th>\n",
       "      <th>meandamage</th>\n",
       "      <th>mdamagedev</th>\n",
       "      <th>hazardtype</th>\n",
       "      <th>hazardval</th>\n",
       "    </tr>\n",
       "  </thead>\n",
       "  <tbody>\n",
       "    <tr>\n",
       "      <th>540</th>\n",
       "      <td>0baa5126-68b7-4e32-9134-8f6c25346f2d</td>\n",
       "      <td>1.000000</td>\n",
       "      <td>1.000000</td>\n",
       "      <td>0.997627</td>\n",
       "      <td>1.378897e-12</td>\n",
       "      <td>3.023178e-10</td>\n",
       "      <td>0.002373</td>\n",
       "      <td>0.997627</td>\n",
       "      <td>0.899169</td>\n",
       "      <td>0.043703</td>\n",
       "      <td>wind</td>\n",
       "      <td>91.272543</td>\n",
       "    </tr>\n",
       "    <tr>\n",
       "      <th>445</th>\n",
       "      <td>a234237f-094d-4c45-b303-1d2669ceef29</td>\n",
       "      <td>1.000000</td>\n",
       "      <td>0.999984</td>\n",
       "      <td>0.870233</td>\n",
       "      <td>1.380415e-07</td>\n",
       "      <td>1.626985e-05</td>\n",
       "      <td>0.129751</td>\n",
       "      <td>0.870233</td>\n",
       "      <td>0.854575</td>\n",
       "      <td>0.128569</td>\n",
       "      <td>wind</td>\n",
       "      <td>74.462756</td>\n",
       "    </tr>\n",
       "    <tr>\n",
       "      <th>595</th>\n",
       "      <td>d1bbca6d-cda4-47e3-9eca-fcfe987e8560</td>\n",
       "      <td>0.999999</td>\n",
       "      <td>0.999931</td>\n",
       "      <td>0.800696</td>\n",
       "      <td>6.828807e-07</td>\n",
       "      <td>6.798139e-05</td>\n",
       "      <td>0.199236</td>\n",
       "      <td>0.800696</td>\n",
       "      <td>0.830216</td>\n",
       "      <td>0.151157</td>\n",
       "      <td>wind</td>\n",
       "      <td>71.973147</td>\n",
       "    </tr>\n",
       "    <tr>\n",
       "      <th>345</th>\n",
       "      <td>78b23681-62dd-43d6-a326-3cabc80bfeeb</td>\n",
       "      <td>0.999999</td>\n",
       "      <td>0.999873</td>\n",
       "      <td>0.762525</td>\n",
       "      <td>1.376159e-06</td>\n",
       "      <td>1.260488e-04</td>\n",
       "      <td>0.237348</td>\n",
       "      <td>0.762525</td>\n",
       "      <td>0.816833</td>\n",
       "      <td>0.160697</td>\n",
       "      <td>wind</td>\n",
       "      <td>70.861950</td>\n",
       "    </tr>\n",
       "    <tr>\n",
       "      <th>624</th>\n",
       "      <td>0e242301-f2e2-45a4-a3a1-ca258d67671f</td>\n",
       "      <td>1.000000</td>\n",
       "      <td>0.999729</td>\n",
       "      <td>0.760797</td>\n",
       "      <td>1.813461e-07</td>\n",
       "      <td>2.707495e-04</td>\n",
       "      <td>0.238932</td>\n",
       "      <td>0.760797</td>\n",
       "      <td>0.816172</td>\n",
       "      <td>0.161245</td>\n",
       "      <td>wind</td>\n",
       "      <td>72.639414</td>\n",
       "    </tr>\n",
       "  </tbody>\n",
       "</table>\n",
       "</div>"
      ],
      "text/plain": [
       "                                     guid    immocc  lifesfty  collprev  \\\n",
       "540  0baa5126-68b7-4e32-9134-8f6c25346f2d  1.000000  1.000000  0.997627   \n",
       "445  a234237f-094d-4c45-b303-1d2669ceef29  1.000000  0.999984  0.870233   \n",
       "595  d1bbca6d-cda4-47e3-9eca-fcfe987e8560  0.999999  0.999931  0.800696   \n",
       "345  78b23681-62dd-43d6-a326-3cabc80bfeeb  0.999999  0.999873  0.762525   \n",
       "624  0e242301-f2e2-45a4-a3a1-ca258d67671f  1.000000  0.999729  0.760797   \n",
       "\n",
       "       insignific      moderate     heavy  complete  meandamage  mdamagedev  \\\n",
       "540  1.378897e-12  3.023178e-10  0.002373  0.997627    0.899169    0.043703   \n",
       "445  1.380415e-07  1.626985e-05  0.129751  0.870233    0.854575    0.128569   \n",
       "595  6.828807e-07  6.798139e-05  0.199236  0.800696    0.830216    0.151157   \n",
       "345  1.376159e-06  1.260488e-04  0.237348  0.762525    0.816833    0.160697   \n",
       "624  1.813461e-07  2.707495e-04  0.238932  0.760797    0.816172    0.161245   \n",
       "\n",
       "    hazardtype  hazardval  \n",
       "540       wind  91.272543  \n",
       "445       wind  74.462756  \n",
       "595       wind  71.973147  \n",
       "345       wind  70.861950  \n",
       "624       wind  72.639414  "
      ]
     },
     "execution_count": 38,
     "metadata": {},
     "output_type": "execute_result"
    }
   ],
   "source": [
    "#show top 5 highest mean damage\n",
    "df.sort_values(by=['meandamage'],ascending=False).head()"
   ]
  },
  {
   "cell_type": "markdown",
   "metadata": {},
   "source": [
    "## Upload the output dataset to data repository by using Data Service Module"
   ]
  },
  {
   "cell_type": "code",
   "execution_count": 39,
   "metadata": {},
   "outputs": [
    {
     "data": {
      "text/plain": [
       "'5ae92f2dec230939943dde68'"
      ]
     },
     "execution_count": 39,
     "metadata": {},
     "output_type": "execute_result"
    }
   ],
   "source": [
    "AnalysisUtil.create_result_dataset(datasvc, \n",
    "                                   ess_dataset['id'], \n",
    "                                   [output], \n",
    "                                   \"tornado building dmg\", \n",
    "                                   BuildingDamage.get_output_metadata())"
   ]
  },
  {
   "cell_type": "code",
   "execution_count": 40,
   "metadata": {},
   "outputs": [
    {
     "data": {
      "text/plain": [
       "{'id': '5ae7973eec2309045c520f5f',\n",
       " 'deleted': False,\n",
       " 'title': 'tornado building dmg',\n",
       " 'description': '',\n",
       " 'date': '2018-04-30T17:22:54-0500',\n",
       " 'creator': 'jonglee',\n",
       " 'contributors': [],\n",
       " 'fileDescriptors': [{'id': '5ae7973eec2309045c520f65',\n",
       "   'deleted': False,\n",
       "   'filename': 'dmg-results.csv',\n",
       "   'mimeType': 'application/octet-stream',\n",
       "   'size': 95791,\n",
       "   'dataURL': 'file:/home/incore/data/5a/e7/5ae7973eec2309045c520f65/dmg-results.csv',\n",
       "   'md5sum': 'df2965eb883693f5957c03e3fd6442af'}],\n",
       " 'dataType': 'ergo:buildingDamageVer4',\n",
       " 'storedUrl': '',\n",
       " 'format': 'table',\n",
       " 'sourceDataset': '5ade51daec2309045650c157',\n",
       " 'spaces': ['jonglee'],\n",
       " 'privileges': {'userPrivileges': {'jonglee': 'ADMIN'}, 'groupPrivileges': {}}}"
      ]
     },
     "execution_count": 40,
     "metadata": {},
     "output_type": "execute_result"
    }
   ],
   "source": [
    "datasvc.get_dataset_metadata('5ae7973eec2309045c520f5f')"
   ]
  },
  {
   "cell_type": "code",
   "execution_count": 41,
   "metadata": {},
   "outputs": [
    {
     "data": {
      "text/html": [
       "<div style=\"width:100%;\"><div style=\"position:relative;width:100%;height:0;padding-bottom:60%;\"><iframe src=\"data:text/html;charset=utf-8;base64,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\" style=\"position:absolute;width:100%;height:100%;left:0;top:0;border:none !important;\" allowfullscreen webkitallowfullscreen mozallowfullscreen></iframe></div></div>"
      ],
      "text/plain": [
       "<folium.folium.Map at 0x7f5644174a20>"
      ]
     },
     "execution_count": 41,
     "metadata": {},
     "output_type": "execute_result"
    }
   ],
   "source": [
    "#Visualize the a scenario tornado and buliding inventory\n",
    "layers = [\n",
    "    {'id': tornado['tornadoDatasetId'],'name': 'tornado', 'style':'tornado'},\n",
    "    {'id': '5ae7973eec2309045c520f5f','name': 'dmg_output', 'style':'bldg-dmg'}\n",
    "]\n",
    "PlotUtil.get_wms_map(layers)"
   ]
  }
 ],
 "metadata": {
  "kernelspec": {
   "display_name": "Python 3",
   "language": "python",
   "name": "python3"
  },
  "language_info": {
   "codemirror_mode": {
    "name": "ipython",
    "version": 3
   },
   "file_extension": ".py",
   "mimetype": "text/x-python",
   "name": "python",
   "nbconvert_exporter": "python",
   "pygments_lexer": "ipython3",
   "version": "3.6.4"
  }
 },
 "nbformat": 4,
 "nbformat_minor": 0
}
