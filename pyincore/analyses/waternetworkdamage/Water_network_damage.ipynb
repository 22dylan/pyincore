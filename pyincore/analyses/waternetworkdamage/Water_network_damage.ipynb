{
 "cells": [
  {
   "cell_type": "code",
   "execution_count": 1,
   "metadata": {},
   "outputs": [],
   "source": [
    "from pyincore import InsecureIncoreClient\n",
    "from pyincore.analyses.waternetworkdamage import WaterNetworkDamage\n",
    "from pyincore.dataset import Dataset"
   ]
  },
  {
   "cell_type": "code",
   "execution_count": 2,
   "metadata": {},
   "outputs": [],
   "source": [
    "client = InsecureIncoreClient(\"http://incore2-services:8888/\", 'incrtest')\n",
    "wn_dmg = WaterNetworkDamage(client)"
   ]
  },
  {
   "cell_type": "code",
   "execution_count": 3,
   "metadata": {},
   "outputs": [
    {
     "data": {
      "text/plain": [
       "True"
      ]
     },
     "execution_count": 3,
     "metadata": {},
     "output_type": "execute_result"
    }
   ],
   "source": [
    "water_pipelines_file = 'cache_data/Pipeline_Skeletonized.shp'\n",
    "water_pipelines = Dataset.from_file(water_pipelines_file,\"pipelineSkeletonized\")\n",
    "wn_dmg.set_input_dataset(\"water_pipelines\", water_pipelines)\n",
    "\n",
    "water_facility_file = 'cache_data/Facility_Skeletonized.shp'\n",
    "water_facilities = Dataset.from_file(water_facility_file,\"facilitySkeletonized\")\n",
    "wn_dmg.set_input_dataset(\"water_facilities\", water_facilities)\n",
    "\n",
    "wn_dmg.set_parameter(\"earthquake_id\", '5ba92505ec23090435209071')\n",
    "wn_dmg.set_parameter(\"water_facility_mapping_id\", '5b47c3b1337d4a387e85564a')\n",
    "wn_dmg.set_parameter(\"water_pipeline_mapping_id\",'5ba55a2aec2309043530887c')\n",
    "wn_dmg.set_parameter(\"num_cpu\", 4)"
   ]
  },
  {
   "cell_type": "code",
   "execution_count": null,
   "metadata": {},
   "outputs": [],
   "source": [
    "wn_dmg.run_analysis()"
   ]
  },
  {
   "cell_type": "code",
   "execution_count": null,
   "metadata": {},
   "outputs": [],
   "source": [
    "wn_dmg.get_output_datasets()"
   ]
  },
  {
   "cell_type": "code",
   "execution_count": null,
   "metadata": {},
   "outputs": [],
   "source": []
  }
 ],
 "metadata": {
  "kernelspec": {
   "display_name": "Python 3",
   "language": "python",
   "name": "python3"
  },
  "language_info": {
   "codemirror_mode": {
    "name": "ipython",
    "version": 3
   },
   "file_extension": ".py",
   "mimetype": "text/x-python",
   "name": "python",
   "nbconvert_exporter": "python",
   "pygments_lexer": "ipython3",
   "version": "3.6.4"
  }
 },
 "nbformat": 4,
 "nbformat_minor": 2
}
