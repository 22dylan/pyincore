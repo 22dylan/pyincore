{
 "cells": [
  {
   "cell_type": "code",
   "execution_count": 66,
   "metadata": {},
   "outputs": [],
   "source": [
    "import sys, os\n",
    "import time\n",
    "import numpy as np\n",
    "import pandas as pd\n",
    "import csv"
   ]
  },
  {
   "cell_type": "code",
   "execution_count": 67,
   "metadata": {},
   "outputs": [],
   "source": [
    "import pyincore"
   ]
  },
  {
   "cell_type": "code",
   "execution_count": 68,
   "metadata": {},
   "outputs": [],
   "source": [
    "from pyincore import InsecureIncoreClient\n",
    "from pyincore import InventoryDataset\n",
    "from pyincore.analyses.populationdislocation.populationdislocation import PopulationDislocation\n",
    "from pyincore.analyses.populationdislocation.structuredamage import StructureDamage\n",
    "from pyincore.analyses.buildingdamage.buildingdamage import BuildingDamage\n",
    "from pyincore.analyses.stochastic_population.stochastic_population_allocation import StochasticPopulationAllocation"
   ]
  },
  {
   "cell_type": "code",
   "execution_count": 69,
   "metadata": {},
   "outputs": [],
   "source": [
    "cred = \"\"\n",
    "client = InsecureIncoreClient(\"http://incore2-services.ncsa.illinois.edu:8888\", cred)"
   ]
  },
  {
   "cell_type": "code",
   "execution_count": 70,
   "metadata": {},
   "outputs": [],
   "source": [
    "# Path to inventories\n",
    "blding_inv_path = \"input_files/IN-CORE_01av3_SetupSeaside_FourInventories_2018-08-29_buildinginventory.csv\"\n",
    "#addres_inv_path = \"input_files/IN-CORE_01av3_SetupSeaside_FourInventories_2018-08-29_addresspointinventory.csv\"\n",
    "#infras_inv_path = \"input_files/IN-CORE_01av3_SetupSeaside_FourInventories_2018-08-29_waterinventory.csv\"\n",
    "#popula_inv_path = \"input_files/IN-CORE_01av3_SetupSeaside_FourInventories_2018-08-29_popinventory.csv\"\n",
    "block_data_path = \"input_files/IN-CORE_01av3_SetupSeaside_FourInventories_2018-08-29_bgdata.csv\"\n",
    "# hazard related\n",
    "bldshp_inv_path = \"input_files/Seaside_buildings/\"\n",
    "hazard_id_service = \"earthquake/5ba92505ec23090435209071\"\n",
    "mapping_id_service = \"5b47b350337d4a3629076f2c\"\n",
    "damage_ratio_path = \"input_files/Building Damage Ratios v1.1.csv\"\n",
    "# temporary\n",
    "merged_inv_path = \"input_files/merged_final_inv_1238.csv\""
   ]
  },
  {
   "cell_type": "code",
   "execution_count": 71,
   "metadata": {},
   "outputs": [],
   "source": [
    "# Stochastic parameters\n",
    "initial_seed = 1238\n",
    "n_iterations = 1\n",
    "# save intermediate csv files\n",
    "intermediate_files: bool = False"
   ]
  },
  {
   "cell_type": "code",
   "execution_count": 72,
   "metadata": {},
   "outputs": [],
   "source": [
    "# Analysis parameter\n",
    "output_file_path = \"\"\n",
    "\n",
    "output_dc_filename = \"dislocation_\" + str(n_iterations) + \".csv\"\n",
    "output_mc_filename = \"mc-results_\" + str(n_iterations) + \".csv\""
   ]
  },
  {
   "cell_type": "code",
   "execution_count": 73,
   "metadata": {},
   "outputs": [],
   "source": [
    "start_time = time.time()"
   ]
  },
  {
   "cell_type": "code",
   "execution_count": 74,
   "metadata": {},
   "outputs": [],
   "source": [
    "# building shape file (one set only)\n",
    "shp_file = None\n",
    "for file in os.listdir(bldshp_inv_path):\n",
    "    if file.endswith(\".shp\"):\n",
    "        shp_file = os.path.join(bldshp_inv_path, file)\n",
    "\n",
    "building_shp = os.path.abspath(shp_file)\n",
    "building_set = InventoryDataset(building_shp)"
   ]
  },
  {
   "cell_type": "code",
   "execution_count": 75,
   "metadata": {},
   "outputs": [],
   "source": [
    "# Building damage\n",
    "hzdmg = BuildingDamage(client, hazard_id_service, damage_ratio_path, intermediate_files)\n",
    "building_hazard = hzdmg.get_damage(building_set.inventory_set, mapping_id_service)\n",
    "\n",
    "# merge hazard building damage probabilities with building inventory\n",
    "merge_dmg = StructureDamage(output_file_path)\n",
    "building_inv_loss = merge_dmg.merge_building_damage(blding_inv_path, building_hazard)\n",
    "# end of Building Damage"
   ]
  },
  {
   "cell_type": "code",
   "execution_count": 76,
   "metadata": {},
   "outputs": [],
   "source": [
    "# Start of the Stochastic Population Allocation and Dislocation\n",
    "# final table with dislocation values\n",
    "mc_out = np.zeros((n_iterations, 11))"
   ]
  },
  {
   "cell_type": "code",
   "execution_count": 77,
   "metadata": {},
   "outputs": [],
   "source": [
    "seed_i = initial_seed + 0\n",
    "    \n",
    "# Stochastic Population Allocation\n",
    "#stal = StochasticPopulationAllocation(addres_inv_path, blding_inv_path,\n",
    "#                                      infras_inv_path, popula_inv_path,\n",
    "#                                      \"\", \"\",\n",
    "#                                      None, None,\n",
    "#                                      intermediate_files)\n",
    "#stal.set_building_inv(building_inv_loss)\n",
    "#merged_inv = stal.get_iteration_stochastic_allocation(seed_i)\n",
    "    \n",
    "merged_inv = pd.DataFrame()\n",
    "if os.path.isfile(merged_inv_path):\n",
    "    merged_inv = pd.read_csv(merged_inv_path, header=\"infer\")\n",
    "# end of Stochastic Population Allocation\n",
    "    \n",
    "# Population Dislocation\n",
    "podi = PopulationDislocation(client, output_file_path, intermediate_files)\n",
    "# combine merged_inventories with block group data\n",
    "merged_block_inv = podi.merge_block_data(merged_inv, block_data_path)\n",
    "merged_final_inv = podi.get_dislocation(seed_i, merged_block_inv)\n",
    "\n",
    "if intermediate_files:\n",
    "    merged_final_inv.to_csv(output_file_path + \"final_inventory_\" + str(seed_i) + \".csv\", sep=\",\")\n",
    "\n",
    "mc_out_iter = podi.aggregate_disl_value(seed_i, merged_final_inv)\n",
    "# end of Population Dislocation\n",
    "\n",
    "mc_out[0] = mc_out_iter[:]"
   ]
  },
  {
   "cell_type": "code",
   "execution_count": 78,
   "metadata": {},
   "outputs": [],
   "source": [
    "# Analyze mc_out and write results to DataFrames and csv tables\n",
    "output_mc_filename = \"mc-out_\" + str(n_iterations) + \".csv\"\n",
    "output_dc_filename = \"mc-long_\" + str(n_iterations) + \".csv\""
   ]
  },
  {
   "cell_type": "code",
   "execution_count": 79,
   "metadata": {},
   "outputs": [],
   "source": [
    "# mc total dislocation output\n",
    "mc_out_col = {}\n",
    "# total = 0, owner = 1, renter = 2, renter (no Critic. Infrast.) = 3, renter (no CI) = 4\n",
    "cols = [\"seed\",\n",
    "        \"numprec0\", \"totdisnumprec0\", \"numprec1\", \"totdisnumprec1\",\n",
    "        \"numprec2\", \"totdisnumprec2\", \"numprec3\", \"totdisnumprec3\",\n",
    "        \"numprec4\", \"totdisnumprec4\"]\n",
    "for idx in range(mc_out.shape[1]):\n",
    "    mc_out_col[cols[idx]] = np.int_(mc_out[:, idx])\n",
    "\n",
    "mc_out_pd = pd.DataFrame(mc_out_col)\n",
    "mc_out_pd.to_csv(output_file_path + output_mc_filename, sep=\",\")\n",
    "\n",
    "# mc average (total and percentage) of total and dislocation outputs\n",
    "min_count = np.int_(np.nanmin(mc_out, axis=0))\n",
    "max_count = np.int_(np.nanmax(mc_out, axis=0))\n",
    "mean_count = np.int_(np.nanmean(mc_out, axis=0))\n",
    "std_count = np.int_(np.nanstd(mc_out, axis=0))\n",
    "\n",
    "total_count = np.array([min_count, max_count, mean_count, std_count])\n",
    "\n",
    "mc_out_pct = np.divide(mc_out, np.roll(mc_out, 1, axis=1), out=np.zeros_like(mc_out),\n",
    "                       where=mc_out != 0)\n",
    "\n",
    "mean_pct = np.around(np.nanmean(mc_out_pct, axis=0), decimals=2)\n",
    "std_pct = np.around(np.nanstd(mc_out_pct, axis=0), decimals=2)\n",
    "min_pct = np.around(np.nanmin(mc_out_pct, axis=0), decimals=2)\n",
    "max_pct = np.around(np.nanmax(mc_out_pct, axis=0), decimals=2)\n",
    "\n",
    "total_pct = np.array([min_pct, max_pct, mean_pct, std_pct])"
   ]
  },
  {
   "cell_type": "code",
   "execution_count": 80,
   "metadata": {},
   "outputs": [],
   "source": [
    "# Write mc_stats to DataFrame and csv table\n",
    "cols_total = [\"Population\", \"Min\", \"Max\", \"Mean\", \"Std\"]"
   ]
  },
  {
   "cell_type": "code",
   "execution_count": 81,
   "metadata": {},
   "outputs": [],
   "source": [
    "# total population (no dislocation)\n",
    "total_count_numprec = np.delete(total_count, [0, 2, 4, 6, 8, 10], axis=1)\n",
    "total_count_numprec = np.transpose(total_count_numprec)\n",
    "\n",
    "dc_out_total = {}\n",
    "for idx in range(np.shape(total_count_numprec)[0]):\n",
    "    if idx == 0:\n",
    "        dc_out_total[cols_total[0]] = [\"Total\", \"Owner\", \"Renter\", \"Owner (no CI)\", \"Renter (no CI)\"]\n",
    "    else:\n",
    "        dc_out_total[cols_total[idx]] = np.int_(total_count_numprec[:, idx - 1])\n",
    "\n",
    "dc_out_pd_total = pd.DataFrame(dc_out_total)\n",
    "# write to csv file\n",
    "dc_out_pd_total.to_csv(output_file_path + output_dc_filename, sep=\",\")"
   ]
  },
  {
   "cell_type": "code",
   "execution_count": 82,
   "metadata": {},
   "outputs": [],
   "source": [
    "# number of dislocated population\n",
    "total_count_disnumprec = np.delete(total_count, [0, 1, 3, 5, 7, 9], axis=1)\n",
    "total_count_disnumprec = np.int_(np.transpose(total_count_disnumprec))\n",
    "\n",
    "dc_out_disln = {}\n",
    "for idx in range(np.shape(total_count_disnumprec)[0]):\n",
    "    if idx == 0:\n",
    "        dc_out_disln[cols_total[0]] = [\"Dislocated Total\", \"Dislocated Owner\", \"Dislocated Renter\",\n",
    "                                       \"Dislocated Owner (no CI)\", \"Dislocated Renter (no CI)\"]\n",
    "    else:\n",
    "        dc_out_disln[cols_total[idx]] = total_count_disnumprec[:, idx - 1]\n",
    "\n",
    "dc_out_pd_disln = pd.DataFrame(dc_out_disln)\n",
    "# append to csv file\n",
    "dc_out_pd_disln.to_csv(output_file_path + output_dc_filename, mode='a', header=False, sep=\",\")"
   ]
  },
  {
   "cell_type": "code",
   "execution_count": 83,
   "metadata": {},
   "outputs": [],
   "source": [
    "# percentage of dislocated population\n",
    "total_pct_disnumprec = np.delete(total_pct, [0, 1, 3, 5, 7, 9], axis=1)\n",
    "total_pct_disnumprec = np.transpose(total_pct_disnumprec)\n",
    "\n",
    "dc_out_dislp = {}\n",
    "for idx in range(np.shape(total_pct_disnumprec)[0]):\n",
    "    if idx == 0:\n",
    "        dc_out_dislp[cols_total[0]] = [\"Dislocated Total (%)\", \"Dislocated Owner (%)\",\n",
    "                                       \"Dislocated Renter (%)\", \"Dislocated Owner (no CI) (%)\",\n",
    "                                       \"Dislocated Renter (no CI) (%)\"]\n",
    "    else:\n",
    "        dc_out_dislp[cols_total[idx]] = total_pct_disnumprec[:, idx - 1]\n",
    "\n",
    "dc_out_pd_dislp = pd.DataFrame(dc_out_dislp)\n",
    "# append to csv file\n",
    "dc_out_pd_dislp.to_csv(output_file_path + output_dc_filename, mode='a', header=False, sep=\",\")"
   ]
  },
  {
   "cell_type": "code",
   "execution_count": 84,
   "metadata": {},
   "outputs": [
    {
     "name": "stdout",
     "output_type": "stream",
     "text": [
      "\n",
      "Execution time: 24.51s\n"
     ]
    }
   ],
   "source": [
    "end_time = time.time()\n",
    "elapsed = end_time - start_time\n",
    "print(\"\\nExecution time: {:.2f}\".format(elapsed) + \"s\")"
   ]
  },
  {
   "cell_type": "code",
   "execution_count": 85,
   "metadata": {},
   "outputs": [
    {
     "data": {
      "text/html": [
       "<div>\n",
       "<style scoped>\n",
       "    .dataframe tbody tr th:only-of-type {\n",
       "        vertical-align: middle;\n",
       "    }\n",
       "\n",
       "    .dataframe tbody tr th {\n",
       "        vertical-align: top;\n",
       "    }\n",
       "\n",
       "    .dataframe thead th {\n",
       "        text-align: right;\n",
       "    }\n",
       "</style>\n",
       "<table border=\"1\" class=\"dataframe\">\n",
       "  <thead>\n",
       "    <tr style=\"text-align: right;\">\n",
       "      <th></th>\n",
       "      <th>seed</th>\n",
       "      <th>numprec0</th>\n",
       "      <th>totdisnumprec0</th>\n",
       "      <th>numprec1</th>\n",
       "      <th>totdisnumprec1</th>\n",
       "      <th>numprec2</th>\n",
       "      <th>totdisnumprec2</th>\n",
       "      <th>numprec3</th>\n",
       "      <th>totdisnumprec3</th>\n",
       "      <th>numprec4</th>\n",
       "      <th>totdisnumprec4</th>\n",
       "    </tr>\n",
       "  </thead>\n",
       "  <tbody>\n",
       "    <tr>\n",
       "      <th>0</th>\n",
       "      <td>1238</td>\n",
       "      <td>6640</td>\n",
       "      <td>3029</td>\n",
       "      <td>2848</td>\n",
       "      <td>1222</td>\n",
       "      <td>3566</td>\n",
       "      <td>1708</td>\n",
       "      <td>113</td>\n",
       "      <td>40</td>\n",
       "      <td>66</td>\n",
       "      <td>18</td>\n",
       "    </tr>\n",
       "  </tbody>\n",
       "</table>\n",
       "</div>"
      ],
      "text/plain": [
       "   seed  numprec0  totdisnumprec0  numprec1  totdisnumprec1  numprec2  \\\n",
       "0  1238      6640            3029      2848            1222      3566   \n",
       "\n",
       "   totdisnumprec2  numprec3  totdisnumprec3  numprec4  totdisnumprec4  \n",
       "0            1708       113              40        66              18  "
      ]
     },
     "execution_count": 85,
     "metadata": {},
     "output_type": "execute_result"
    }
   ],
   "source": [
    "# mc total dislocation output\n",
    "pd.DataFrame(mc_out_col)"
   ]
  },
  {
   "cell_type": "code",
   "execution_count": 86,
   "metadata": {},
   "outputs": [
    {
     "data": {
      "text/html": [
       "<div>\n",
       "<style scoped>\n",
       "    .dataframe tbody tr th:only-of-type {\n",
       "        vertical-align: middle;\n",
       "    }\n",
       "\n",
       "    .dataframe tbody tr th {\n",
       "        vertical-align: top;\n",
       "    }\n",
       "\n",
       "    .dataframe thead th {\n",
       "        text-align: right;\n",
       "    }\n",
       "</style>\n",
       "<table border=\"1\" class=\"dataframe\">\n",
       "  <thead>\n",
       "    <tr style=\"text-align: right;\">\n",
       "      <th></th>\n",
       "      <th>Population</th>\n",
       "      <th>Min</th>\n",
       "      <th>Max</th>\n",
       "      <th>Mean</th>\n",
       "      <th>Std</th>\n",
       "    </tr>\n",
       "  </thead>\n",
       "  <tbody>\n",
       "    <tr>\n",
       "      <th>0</th>\n",
       "      <td>Total</td>\n",
       "      <td>6640</td>\n",
       "      <td>6640</td>\n",
       "      <td>6640</td>\n",
       "      <td>0</td>\n",
       "    </tr>\n",
       "    <tr>\n",
       "      <th>1</th>\n",
       "      <td>Owner</td>\n",
       "      <td>2848</td>\n",
       "      <td>2848</td>\n",
       "      <td>2848</td>\n",
       "      <td>0</td>\n",
       "    </tr>\n",
       "    <tr>\n",
       "      <th>2</th>\n",
       "      <td>Renter</td>\n",
       "      <td>3566</td>\n",
       "      <td>3566</td>\n",
       "      <td>3566</td>\n",
       "      <td>0</td>\n",
       "    </tr>\n",
       "    <tr>\n",
       "      <th>3</th>\n",
       "      <td>Owner (no CI)</td>\n",
       "      <td>113</td>\n",
       "      <td>113</td>\n",
       "      <td>113</td>\n",
       "      <td>0</td>\n",
       "    </tr>\n",
       "    <tr>\n",
       "      <th>4</th>\n",
       "      <td>Renter (no CI)</td>\n",
       "      <td>66</td>\n",
       "      <td>66</td>\n",
       "      <td>66</td>\n",
       "      <td>0</td>\n",
       "    </tr>\n",
       "  </tbody>\n",
       "</table>\n",
       "</div>"
      ],
      "text/plain": [
       "       Population   Min   Max  Mean  Std\n",
       "0           Total  6640  6640  6640    0\n",
       "1           Owner  2848  2848  2848    0\n",
       "2          Renter  3566  3566  3566    0\n",
       "3   Owner (no CI)   113   113   113    0\n",
       "4  Renter (no CI)    66    66    66    0"
      ]
     },
     "execution_count": 86,
     "metadata": {},
     "output_type": "execute_result"
    }
   ],
   "source": [
    "# total population (no dislocation)\n",
    "pd.DataFrame(dc_out_pd_total)"
   ]
  },
  {
   "cell_type": "code",
   "execution_count": 87,
   "metadata": {},
   "outputs": [
    {
     "data": {
      "text/html": [
       "<div>\n",
       "<style scoped>\n",
       "    .dataframe tbody tr th:only-of-type {\n",
       "        vertical-align: middle;\n",
       "    }\n",
       "\n",
       "    .dataframe tbody tr th {\n",
       "        vertical-align: top;\n",
       "    }\n",
       "\n",
       "    .dataframe thead th {\n",
       "        text-align: right;\n",
       "    }\n",
       "</style>\n",
       "<table border=\"1\" class=\"dataframe\">\n",
       "  <thead>\n",
       "    <tr style=\"text-align: right;\">\n",
       "      <th></th>\n",
       "      <th>Population</th>\n",
       "      <th>Min</th>\n",
       "      <th>Max</th>\n",
       "      <th>Mean</th>\n",
       "      <th>Std</th>\n",
       "    </tr>\n",
       "  </thead>\n",
       "  <tbody>\n",
       "    <tr>\n",
       "      <th>0</th>\n",
       "      <td>Dislocated Total</td>\n",
       "      <td>3029</td>\n",
       "      <td>3029</td>\n",
       "      <td>3029</td>\n",
       "      <td>0</td>\n",
       "    </tr>\n",
       "    <tr>\n",
       "      <th>1</th>\n",
       "      <td>Dislocated Owner</td>\n",
       "      <td>1222</td>\n",
       "      <td>1222</td>\n",
       "      <td>1222</td>\n",
       "      <td>0</td>\n",
       "    </tr>\n",
       "    <tr>\n",
       "      <th>2</th>\n",
       "      <td>Dislocated Renter</td>\n",
       "      <td>1708</td>\n",
       "      <td>1708</td>\n",
       "      <td>1708</td>\n",
       "      <td>0</td>\n",
       "    </tr>\n",
       "    <tr>\n",
       "      <th>3</th>\n",
       "      <td>Dislocated Owner (no CI)</td>\n",
       "      <td>40</td>\n",
       "      <td>40</td>\n",
       "      <td>40</td>\n",
       "      <td>0</td>\n",
       "    </tr>\n",
       "    <tr>\n",
       "      <th>4</th>\n",
       "      <td>Dislocated Renter (no CI)</td>\n",
       "      <td>18</td>\n",
       "      <td>18</td>\n",
       "      <td>18</td>\n",
       "      <td>0</td>\n",
       "    </tr>\n",
       "  </tbody>\n",
       "</table>\n",
       "</div>"
      ],
      "text/plain": [
       "                  Population   Min   Max  Mean  Std\n",
       "0           Dislocated Total  3029  3029  3029    0\n",
       "1           Dislocated Owner  1222  1222  1222    0\n",
       "2          Dislocated Renter  1708  1708  1708    0\n",
       "3   Dislocated Owner (no CI)    40    40    40    0\n",
       "4  Dislocated Renter (no CI)    18    18    18    0"
      ]
     },
     "execution_count": 87,
     "metadata": {},
     "output_type": "execute_result"
    }
   ],
   "source": [
    "# number of dislocated population\n",
    "pd.DataFrame(dc_out_disln)"
   ]
  },
  {
   "cell_type": "code",
   "execution_count": 88,
   "metadata": {},
   "outputs": [
    {
     "data": {
      "text/html": [
       "<div>\n",
       "<style scoped>\n",
       "    .dataframe tbody tr th:only-of-type {\n",
       "        vertical-align: middle;\n",
       "    }\n",
       "\n",
       "    .dataframe tbody tr th {\n",
       "        vertical-align: top;\n",
       "    }\n",
       "\n",
       "    .dataframe thead th {\n",
       "        text-align: right;\n",
       "    }\n",
       "</style>\n",
       "<table border=\"1\" class=\"dataframe\">\n",
       "  <thead>\n",
       "    <tr style=\"text-align: right;\">\n",
       "      <th></th>\n",
       "      <th>Population</th>\n",
       "      <th>Min</th>\n",
       "      <th>Max</th>\n",
       "      <th>Mean</th>\n",
       "      <th>Std</th>\n",
       "    </tr>\n",
       "  </thead>\n",
       "  <tbody>\n",
       "    <tr>\n",
       "      <th>0</th>\n",
       "      <td>Dislocated Total (%)</td>\n",
       "      <td>0.46</td>\n",
       "      <td>0.46</td>\n",
       "      <td>0.46</td>\n",
       "      <td>0.0</td>\n",
       "    </tr>\n",
       "    <tr>\n",
       "      <th>1</th>\n",
       "      <td>Dislocated Owner (%)</td>\n",
       "      <td>0.43</td>\n",
       "      <td>0.43</td>\n",
       "      <td>0.43</td>\n",
       "      <td>0.0</td>\n",
       "    </tr>\n",
       "    <tr>\n",
       "      <th>2</th>\n",
       "      <td>Dislocated Renter (%)</td>\n",
       "      <td>0.48</td>\n",
       "      <td>0.48</td>\n",
       "      <td>0.48</td>\n",
       "      <td>0.0</td>\n",
       "    </tr>\n",
       "    <tr>\n",
       "      <th>3</th>\n",
       "      <td>Dislocated Owner (no CI) (%)</td>\n",
       "      <td>0.35</td>\n",
       "      <td>0.35</td>\n",
       "      <td>0.35</td>\n",
       "      <td>0.0</td>\n",
       "    </tr>\n",
       "    <tr>\n",
       "      <th>4</th>\n",
       "      <td>Dislocated Renter (no CI) (%)</td>\n",
       "      <td>0.27</td>\n",
       "      <td>0.27</td>\n",
       "      <td>0.27</td>\n",
       "      <td>0.0</td>\n",
       "    </tr>\n",
       "  </tbody>\n",
       "</table>\n",
       "</div>"
      ],
      "text/plain": [
       "                      Population   Min   Max  Mean  Std\n",
       "0           Dislocated Total (%)  0.46  0.46  0.46  0.0\n",
       "1           Dislocated Owner (%)  0.43  0.43  0.43  0.0\n",
       "2          Dislocated Renter (%)  0.48  0.48  0.48  0.0\n",
       "3   Dislocated Owner (no CI) (%)  0.35  0.35  0.35  0.0\n",
       "4  Dislocated Renter (no CI) (%)  0.27  0.27  0.27  0.0"
      ]
     },
     "execution_count": 88,
     "metadata": {},
     "output_type": "execute_result"
    }
   ],
   "source": [
    "# percentage of dislocated population\n",
    "pd.DataFrame(dc_out_dislp)"
   ]
  }
 ],
 "metadata": {
  "kernelspec": {
   "display_name": "Python 3",
   "language": "python",
   "name": "python3"
  },
  "language_info": {
   "codemirror_mode": {
    "name": "ipython",
    "version": 3
   },
   "file_extension": ".py",
   "mimetype": "text/x-python",
   "name": "python",
   "nbconvert_exporter": "python",
   "pygments_lexer": "ipython3",
   "version": "3.6.5"
  }
 },
 "nbformat": 4,
 "nbformat_minor": 2
}
