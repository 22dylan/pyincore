{
 "cells": [
  {
   "cell_type": "markdown",
   "metadata": {},
   "source": [
    "## Pipeline damage analysis"
   ]
  },
  {
   "cell_type": "code",
   "execution_count": null,
   "metadata": {},
   "outputs": [],
   "source": [
    "from pyincore import IncoreClient, DataService\n",
    "from pyincore.analyses.pipelinedamage import PipelineDamage, PipelineUtil"
   ]
  },
  {
   "cell_type": "code",
   "execution_count": null,
   "metadata": {},
   "outputs": [],
   "source": [
    "client = IncoreClient()"
   ]
  },
  {
   "cell_type": "code",
   "execution_count": null,
   "metadata": {},
   "outputs": [],
   "source": [
    "# This is the Memphis Water Buried Pipeline with Topology dataset the Ergo repository\n",
    "pipeline_dataset_id = \"5a284f28c7d30d13bc081d14\"\n",
    "# pipeline mapping\n",
    "mapping_id = \"5b47c227337d4a38464efea8\"\n",
    "\n",
    "# New madrid earthquake using Atkinson Boore 1995\n",
    "hazard_type = \"earthquake\"\n",
    "hazard_id = \"5b902cb273c3371e1236b36b\""
   ]
  },
  {
   "cell_type": "code",
   "execution_count": null,
   "metadata": {},
   "outputs": [],
   "source": [
    "# Create pipeline damage \n",
    "pipeline_dmg = PipelineDamage(client)\n",
    "# Load input datasets\n",
    "pipeline_dmg.load_remote_input_dataset(\"pipeline\", pipeline_dataset_id)\n",
    "# Specify the result name\n",
    "result_name = \"pipeline_result\"\n",
    "# Set analysis parameters\n",
    "pipeline_dmg.set_parameter(\"result_name\", result_name)\n",
    "pipeline_dmg.set_parameter(\"mapping_id\", mapping_id)\n",
    "pipeline_dmg.set_parameter(\"hazard_type\", hazard_type)\n",
    "pipeline_dmg.set_parameter(\"hazard_id\", hazard_id)\n",
    "pipeline_dmg.set_parameter(\"num_cpu\", 4)"
   ]
  },
  {
   "cell_type": "code",
   "execution_count": null,
   "metadata": {},
   "outputs": [],
   "source": [
    "# Run bridge damage analysis\n",
    "pipeline_dmg.run_analysis()"
   ]
  },
  {
   "cell_type": "code",
   "execution_count": null,
   "metadata": {},
   "outputs": [],
   "source": [
    "pipeline_dmg.get_output_datasets()"
   ]
  },
  {
   "cell_type": "code",
   "execution_count": null,
   "metadata": {},
   "outputs": [],
   "source": []
  }
 ],
 "metadata": {
  "kernelspec": {
   "display_name": "Python 3",
   "language": "python",
   "name": "python3"
  },
  "language_info": {
   "codemirror_mode": {
    "name": "ipython",
    "version": 3
   },
   "file_extension": ".py",
   "mimetype": "text/x-python",
   "name": "python",
   "nbconvert_exporter": "python",
   "pygments_lexer": "ipython3",
   "version": "3.6.9"
  }
 },
 "nbformat": 4,
 "nbformat_minor": 2
}
