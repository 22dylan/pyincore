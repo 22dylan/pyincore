{
 "cells": [
  {
   "cell_type": "markdown",
   "metadata": {},
   "source": [
    "# Water Network Analysis"
   ]
  },
  {
   "cell_type": "code",
   "execution_count": null,
   "metadata": {},
   "outputs": [],
   "source": [
    "import logging\n",
    "import warnings\n",
    "import pandas as pd\n",
    "import json\n",
    "from pyincore import InsecureIncoreClient\n",
    "from pyincore.analyses.waternetworkdamage import WaterNetworkDamage\n",
    "from pyincore.analyses.waternetworkrecovery import WaterNetworkRecovery, WaterNetworkRecoveryUtil\n",
    "from pyincore.analyses.stochastic_population import StochasticPopulationAllocation\n",
    "from pyincore.analyses.populationdislocation import PopulationDislocation, PopulationDislocationUtil\n",
    "from pyincore.analyses.buildingdamage import BuildingDamage\n",
    "from pyincore import InventoryDataset\n",
    "from matplotlib import animation, rc\n",
    "from IPython.display import HTML\n",
    "import csv\n",
    "from collections import OrderedDict"
   ]
  },
  {
   "cell_type": "markdown",
   "metadata": {},
   "source": [
    "#### embed interactive graphs in the notebook"
   ]
  },
  {
   "cell_type": "code",
   "execution_count": null,
   "metadata": {},
   "outputs": [],
   "source": [
    "from plotly.offline import init_notebook_mode\n",
    "init_notebook_mode()"
   ]
  },
  {
   "cell_type": "markdown",
   "metadata": {},
   "source": [
    "#### supress warning and info logging"
   ]
  },
  {
   "cell_type": "code",
   "execution_count": null,
   "metadata": {},
   "outputs": [],
   "source": [
    "warnings.filterwarnings('ignore')\n",
    "logger = logging.getLogger()\n",
    "logger.setLevel(logging.CRITICAL)"
   ]
  },
  {
   "cell_type": "markdown",
   "metadata": {},
   "source": [
    "## Preparation work\n",
    " - extract and save demand node\n",
    " - use QGIS to generate voronoi cell\n",
    " - use QGIS to do clipping\n",
    " - use QGIS to calculate the cell area (unit: acres)\n",
    " - use that voronoi cell shapefile and building inventory, find the mapping relationship of those two"
   ]
  },
  {
   "cell_type": "code",
   "execution_count": null,
   "metadata": {},
   "outputs": [],
   "source": [
    "def animate(i, resultsNday, wnNday):\n",
    "    return wn_recovery.output_water_network(resultsNday, \n",
    "                                            wnNday, \n",
    "                                            timestamp=3600*i,\n",
    "                                            plotly_options={'title': str(i) +' hours',\n",
    "                                                 'figsize':[800, 450],\n",
    "                                                 'node_cmap':'RdBu'\n",
    "                                             }\n",
    "                                           )"
   ]
  },
  {
   "cell_type": "code",
   "execution_count": null,
   "metadata": {},
   "outputs": [],
   "source": [
    "pd.read_csv('waternode_building_relations.csv')"
   ]
  },
  {
   "cell_type": "markdown",
   "metadata": {},
   "source": [
    "## Time 0 : before hazard happens\n",
    "### run stochastic allocation model "
   ]
  },
  {
   "cell_type": "code",
   "execution_count": null,
   "metadata": {
    "scrolled": false
   },
   "outputs": [],
   "source": [
    "seed_i = 1111\n",
    "addres_inv_path = \"IN-CORE_01av3_SetupSeaside_FourInventories_2018-08-29_addresspointinventory.csv\"\n",
    "blding_inv_path = \"IN-CORE_01av3_SetupSeaside_FourInventories_2018-08-29_buildinginventory.csv\"\n",
    "infras_inv_path = \"IN-CORE_01av3_SetupSeaside_FourInventories_2018-08-29_waterinventory.csv\"\n",
    "popula_inv_path = \"IN-CORE_01av3_SetupSeaside_FourInventories_2018-08-29_popinventory.csv\"\n",
    "intermediate_files = True\n",
    "stal = StochasticPopulationAllocation(addres_inv_path, blding_inv_path,\n",
    "                                     infras_inv_path, popula_inv_path,\n",
    "                                     \"pop_allocation\", \"./\",\n",
    "                                     1111, 1,\n",
    "                                     intermediate_files)\n",
    "stal.get_stochastic_population_allocation()"
   ]
  },
  {
   "cell_type": "markdown",
   "metadata": {},
   "source": [
    "### calculate inital water demand based on stochastic allocation model  $unit = m^3/s$"
   ]
  },
  {
   "cell_type": "code",
   "execution_count": null,
   "metadata": {},
   "outputs": [],
   "source": [
    "waternode_population = \\\n",
    "WaterNetworkRecoveryUtil.calc_waternode_population('waternode_building_relations.csv', \n",
    "                                                   'pop_allocation_1111.csv')\n",
    "waternode_population"
   ]
  },
  {
   "cell_type": "code",
   "execution_count": null,
   "metadata": {},
   "outputs": [],
   "source": [
    "demand0 = WaterNetworkRecoveryUtil.calc_waternode_demand('waternode_building_relations.csv', \n",
    "                                                               waternode_population)\n",
    "demand0"
   ]
  },
  {
   "cell_type": "markdown",
   "metadata": {},
   "source": [
    "### construct the water network with initial demand ratio"
   ]
  },
  {
   "cell_type": "code",
   "execution_count": null,
   "metadata": {},
   "outputs": [],
   "source": [
    "WN_input_file = 'SEASIDE/skeletonized_WN/Seaside_Skeletonized_WN.inp'\n",
    "wn_recovery = WaterNetworkRecovery(WN_input_file, demand0)"
   ]
  },
  {
   "cell_type": "markdown",
   "metadata": {},
   "source": [
    "### plot the initial water network (OPTIONAL)"
   ]
  },
  {
   "cell_type": "code",
   "execution_count": null,
   "metadata": {
    "scrolled": false
   },
   "outputs": [],
   "source": [
    "import pickle\n",
    "import wntr\n",
    "with open('wn.pickle', 'rb') as f:\n",
    "    wn = pickle.load(f)\n",
    "\n",
    "wn.options.time.duration = 24 * 3600\n",
    "wn.options.time.hydraulic_timestep = 3600\n",
    "wn.options.time.report_timestep = 3600\n",
    "sim = wntr.sim.WNTRSimulator(wn, mode='PDD')\n",
    "intial_network = sim.run_sim()\n",
    "wn_recovery.output_water_network(intial_network, wn, timestamp=23*3600, \n",
    "                                plotly_options={'title':'Initial Water Network',\n",
    "                                 'figsize':[800, 450], 'node_cmap':'RdBu',\n",
    "                             })"
   ]
  },
  {
   "cell_type": "markdown",
   "metadata": {},
   "source": [
    "## Time t1: after hazard happens\n",
    "### calculate water network damges"
   ]
  },
  {
   "cell_type": "code",
   "execution_count": null,
   "metadata": {},
   "outputs": [],
   "source": [
    "client = InsecureIncoreClient(\"http://incore2-services:8888/\", 'cwang138')\n",
    "water_facility_shp = 'SEASIDE/skeletonized_WN/Facility_Skeletonized.shp'\n",
    "water_pipeline_shp = 'SEASIDE/skeletonized_WN/Pipeline_Skeletonized.shp'\n",
    "wn_dmg = WaterNetworkDamage(client, water_facility_shp, water_pipeline_shp)\n",
    "wn_dmg.water_netowork_damage(\n",
    "    water_facility_mapping_id='5b47c3b1337d4a387e85564a',\n",
    "    water_pipeline_mapping_id='5ba55a2aec2309043530887c',\n",
    "    hazard_id='5ba92505ec23090435209071',\n",
    "    num_threads=0)"
   ]
  },
  {
   "cell_type": "code",
   "execution_count": null,
   "metadata": {},
   "outputs": [],
   "source": [
    "pipe_PEDS = pd.read_csv('pipeline_dmg.csv', index_col=0)\n",
    "pipe_PEDS.index = pipe_PEDS.index.map(str)\n",
    "\n",
    "pump_PEDS = pd.read_csv('pump_dmg.csv', index_col=0)\n",
    "pump_PEDS.index = pump_PEDS.index.map(str)\n",
    "\n",
    "tank_PEDS = pd.read_csv('tank_dmg.csv', index_col=0)\n",
    "tank_PEDS.index = tank_PEDS.index.map(str)"
   ]
  },
  {
   "cell_type": "code",
   "execution_count": null,
   "metadata": {},
   "outputs": [],
   "source": [
    "pipe_PEDS.head()"
   ]
  },
  {
   "cell_type": "code",
   "execution_count": null,
   "metadata": {},
   "outputs": [],
   "source": [
    "tank_PEDS.head()"
   ]
  },
  {
   "cell_type": "code",
   "execution_count": null,
   "metadata": {},
   "outputs": [],
   "source": [
    "pump_PEDS.head()"
   ]
  },
  {
   "cell_type": "markdown",
   "metadata": {},
   "source": [
    "### calculate the population dislocation"
   ]
  },
  {
   "cell_type": "markdown",
   "metadata": {},
   "source": [
    "#### calculate building damage"
   ]
  },
  {
   "cell_type": "code",
   "execution_count": null,
   "metadata": {
    "scrolled": true
   },
   "outputs": [],
   "source": [
    "# seaside building inventory\n",
    "bldg_dataset_id = \"\"\n",
    "hazard_type = \"earthquake\"\n",
    "hazard_id = \"5ba92505ec23090435209071\"\n",
    "dmg_ratio_id = \"5a284f2ec7d30d13bc08209a\"\n",
    "mapping_id = \"5b47b350337d4a3629076f2c\"\n",
    "\n",
    "# set parameters and dataset\n",
    "bldg_dmg = BuildingDamage(client)\n",
    "bldg_dmg.load_remote_input_dataset(\"buildings\", bldg_dataset_id)\n",
    "bldg_dmg.load_remote_input_dataset(\"dmg_ratios\", dmg_ratio_id)\n",
    "\n",
    "result_name = \"seaside_bldg_dmg_result\"\n",
    "bldg_dmg.set_parameter(\"result_name\", result_name)\n",
    "bldg_dmg.set_parameter(\"mapping_id\", mapping_id)\n",
    "bldg_dmg.set_parameter(\"hazard_type\", hazard_type)\n",
    "bldg_dmg.set_parameter(\"hazard_id\", hazard_id)\n",
    "bldg_dmg.set_parameter(\"num_cpu\", 1)\n",
    "\n",
    "# Run Analysis\n",
    "bldg_dmg.run_analysis()       "
   ]
  },
  {
   "cell_type": "markdown",
   "metadata": {},
   "source": [
    "#### Start of the Stochastic Population Allocation"
   ]
  },
  {
   "cell_type": "code",
   "execution_count": null,
   "metadata": {},
   "outputs": [],
   "source": [
    "output_file_path = \"\"\n",
    "\n",
    "# Population Dislocation\n",
    "podi = PopulationDislocation(client, output_file_path, False)\n",
    "merged_block_inv = PopulationDislocationUtil.merge_damage_population_block(\n",
    "    building_dmg_file='seaside_bldg_dmg_result.csv',\n",
    "    population_allocation_file='pop_allocation_1111.csv',\n",
    "    block_data_file='IN-CORE_01av3_SetupSeaside_FourInventories_2018-08-29_bgdata.csv')\n",
    "merged_final_inv = podi.get_dislocation(seed_i, merged_block_inv)\n",
    "\n",
    "# save to csv\n",
    "merged_final_inv.to_csv(output_file_path + \"final_inventory_\" + str(seed_i) + \".csv\", sep=\",\")"
   ]
  },
  {
   "cell_type": "markdown",
   "metadata": {},
   "source": [
    "### calculate the change of demand"
   ]
  },
  {
   "cell_type": "code",
   "execution_count": null,
   "metadata": {},
   "outputs": [],
   "source": [
    "waternode_population1 = \\\n",
    "WaterNetworkRecoveryUtil.calc_waternode_population('waternode_building_relations.csv', \n",
    "                                                   'final_inventory_1111.csv')\n",
    "waternode_population1"
   ]
  },
  {
   "cell_type": "code",
   "execution_count": null,
   "metadata": {
    "scrolled": false
   },
   "outputs": [],
   "source": [
    "demand1 = WaterNetworkRecoveryUtil.calc_waternode_demand('waternode_building_relations.csv',waternode_population1)\n",
    "demand1"
   ]
  },
  {
   "cell_type": "code",
   "execution_count": null,
   "metadata": {},
   "outputs": [],
   "source": [
    "results1day, wn1day = wn_recovery.wn_impact1day(pipe_PEDS, pump_PEDS, tank_PEDS, demand=demand1, seed=2)"
   ]
  },
  {
   "cell_type": "code",
   "execution_count": null,
   "metadata": {
    "scrolled": false
   },
   "outputs": [],
   "source": [
    "for i in range(0, 24, 6):\n",
    "    animate(i, results1day, wn1day)"
   ]
  },
  {
   "cell_type": "markdown",
   "metadata": {},
   "source": [
    "## Time t2: Start Recvoery\n",
    "### need to have seaside pipeline zoning file. Mock file right now"
   ]
  },
  {
   "cell_type": "code",
   "execution_count": null,
   "metadata": {},
   "outputs": [],
   "source": [
    "WN_rec_atr, rec_params = \\\n",
    "wn_recovery.set_recovery_attributes(pipe_PEDS, \n",
    "                                    pipe_zone_file='SEASIDE/skeletonized_WN/original_PipeZones_seaside_skeleton.csv',\n",
    "                                    work_hour_day=16, tzero=4, prod_param = (20, 4), \n",
    "                                    crew= [[6, 5, 7, 7, 1, 6],[4, 3, 4, 4, 1, 4],[4, 3, 4, 4, 1, 4]])\n",
    "results3day, wn3day = wn_recovery.wn_recoveryNday(pipe_PEDS, pump_PEDS,tank_PEDS, WN_rec_atr,rec_params, n_days=3,\n",
    "                                                  demand=demand1,save_model=True, seed=2)"
   ]
  },
  {
   "cell_type": "code",
   "execution_count": null,
   "metadata": {
    "scrolled": false
   },
   "outputs": [],
   "source": [
    "for i in range(17, 72, 24):\n",
    "    animate(i, results3day, wn3day)"
   ]
  },
  {
   "cell_type": "markdown",
   "metadata": {},
   "source": [
    "## Time t3: After Recovery, additional dislocation happens and water demand change"
   ]
  },
  {
   "cell_type": "code",
   "execution_count": null,
   "metadata": {},
   "outputs": [],
   "source": [
    "waternode_population2 = WaterNetworkRecoveryUtil.additional_waternode_population_dislocation(timestep=7*3600, \n",
    "                                                                       wntr_sim_resultsNday=results3day,\n",
    "                                                                       prev_waternode_population=waternode_population1)\n",
    "waternode_population2"
   ]
  },
  {
   "cell_type": "code",
   "execution_count": null,
   "metadata": {},
   "outputs": [],
   "source": [
    "demand2 = WaterNetworkRecoveryUtil.calc_waternode_demand('waternode_building_relations.csv', waternode_population2)\n",
    "demand2"
   ]
  },
  {
   "cell_type": "code",
   "execution_count": null,
   "metadata": {},
   "outputs": [],
   "source": [
    "results5day, wn5day = wn_recovery.wn_rec_intrp_Nday(n_days=5, intrp_day=3,demand=demand2)"
   ]
  },
  {
   "cell_type": "code",
   "execution_count": null,
   "metadata": {
    "scrolled": false
   },
   "outputs": [],
   "source": [
    "for i in range(17, 5*24, 24):\n",
    "    animate(i, results5day, wn5day)"
   ]
  },
  {
   "cell_type": "code",
   "execution_count": null,
   "metadata": {},
   "outputs": [],
   "source": [
    "results1day.node['pressure']"
   ]
  }
 ],
 "metadata": {
  "kernelspec": {
   "display_name": "Python 3",
   "language": "python",
   "name": "python3"
  },
  "language_info": {
   "codemirror_mode": {
    "name": "ipython",
    "version": 3
   },
   "file_extension": ".py",
   "mimetype": "text/x-python",
   "name": "python",
   "nbconvert_exporter": "python",
   "pygments_lexer": "ipython3",
   "version": "3.6.4"
  }
 },
 "nbformat": 4,
 "nbformat_minor": 2
}
