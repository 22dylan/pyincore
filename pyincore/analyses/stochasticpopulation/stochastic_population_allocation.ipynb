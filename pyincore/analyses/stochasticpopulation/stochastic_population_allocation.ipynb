{
 "cells": [
  {
   "cell_type": "code",
   "execution_count": 6,
   "metadata": {},
   "outputs": [],
   "source": [
    "from pyincore import InsecureIncoreClient\n",
    "from pyincore.analyses.stochasticpopulation import StochasticPopulationAllocation"
   ]
  },
  {
   "cell_type": "code",
   "execution_count": 7,
   "metadata": {},
   "outputs": [],
   "source": [
    "client = InsecureIncoreClient(\"http://incore2-services.ncsa.illinois.edu:8888\", \"incrtest\")"
   ]
  },
  {
   "cell_type": "code",
   "execution_count": 8,
   "metadata": {},
   "outputs": [],
   "source": [
    "pop_inv = \"5c34da82c5c0e40670b77633\"\n",
    "addr_point_inv = \"5c34db03c5c0e40670b77637\"\n",
    "bg_inv = \"5c34db0ec5c0e40670b7763b\"\n",
    "\n",
    "result_name = \"stochastic-allocation-nb\"\n",
    "seed = 1238\n",
    "iterations = 5"
   ]
  },
  {
   "cell_type": "code",
   "execution_count": 9,
   "metadata": {},
   "outputs": [
    {
     "name": "stdout",
     "output_type": "stream",
     "text": [
      "It already exsists; no unzip\n",
      "It already exsists; no unzip\n",
      "It already exsists; no unzip\n"
     ]
    },
    {
     "data": {
      "text/plain": [
       "True"
      ]
     },
     "execution_count": 9,
     "metadata": {},
     "output_type": "execute_result"
    }
   ],
   "source": [
    "spa = StochasticPopulationAllocation(client)\n",
    "\n",
    "spa.load_remote_input_dataset(\"population_inventory\", pop_inv)\n",
    "spa.load_remote_input_dataset(\"address_point_inventory\", addr_point_inv)\n",
    "spa.load_remote_input_dataset(\"building_inventory\", bg_inv)\n",
    "\n",
    "spa.set_parameter(\"result_name\", result_name)\n",
    "spa.set_parameter(\"seed\", seed)\n",
    "spa.set_parameter(\"iterations\", iterations)"
   ]
  },
  {
   "cell_type": "code",
   "execution_count": 10,
   "metadata": {},
   "outputs": [
    {
     "data": {
      "text/plain": [
       "True"
      ]
     },
     "execution_count": 10,
     "metadata": {},
     "output_type": "execute_result"
    }
   ],
   "source": [
    "spa.run_analysis()"
   ]
  },
  {
   "cell_type": "code",
   "execution_count": null,
   "metadata": {},
   "outputs": [],
   "source": []
  }
 ],
 "metadata": {
  "kernelspec": {
   "display_name": "Python 3",
   "language": "python",
   "name": "python3"
  },
  "language_info": {
   "codemirror_mode": {
    "name": "ipython",
    "version": 3
   },
   "file_extension": ".py",
   "mimetype": "text/x-python",
   "name": "python",
   "nbconvert_exporter": "python",
   "pygments_lexer": "ipython3",
   "version": "3.6.4"
  }
 },
 "nbformat": 4,
 "nbformat_minor": 2
}
