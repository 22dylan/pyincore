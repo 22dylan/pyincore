{
 "cells": [
  {
   "cell_type": "code",
   "execution_count": 10,
   "metadata": {},
   "outputs": [],
   "source": [
    "from pyincore import InsecureIncoreClient, DataService\n",
    "from pyincore.analyses.bridgedamage import BridgeDamage"
   ]
  },
  {
   "cell_type": "markdown",
   "metadata": {},
   "source": []
  },
  {
   "cell_type": "code",
   "execution_count": null,
   "metadata": {},
   "outputs": [],
   "source": [
    "client = InsecureIncoreClient(\"http://incore2-services.ncsa.illinois.edu:8888\", \"incoretester\")"
   ]
  },
  {
   "cell_type": "code",
   "execution_count": 13,
   "metadata": {},
   "outputs": [],
   "source": [
    "# New madrid earthquake using Atkinson Boore 1995\n",
    "hazard_service = \"earthquake/5b902cb273c3371e1236b36b\"\n",
    "dmg_ratio_id = \"5a284f2cc7d30d13bc081f96\""
   ]
  },
  {
   "cell_type": "code",
   "execution_count": 14,
   "metadata": {
    "collapsed": false
   },
   "outputs": [
    {
     "name": "stdout",
     "output_type": "stream",
     "text": [
      "It already exsists; no unzip\n",
      "It already exsists; no unzip\n"
     ]
    }
   ],
   "source": [
    "# NBSR bridges\n",
    "bridge_dataset_id = \"5a284f2dc7d30d13bc082040\""
   ]
  },
  {
   "cell_type": "code",
   "execution_count": null,
   "metadata": {},
   "outputs": [],
   "source": [
    "# Default Bridge Fragility Mapping on incore-service\n",
    "mapping_id = \"5b47bcce337d4a37755e0cb2\""
   ]
  },
  {
   "cell_type": "code",
   "execution_count": null,
   "metadata": {},
   "outputs": [],
   "source": [
    "# Use hazard uncertainty for computing damage\n",
    "use_hazard_uncertainty = False\n",
    "# Use liquefaction (LIQ) column of bridges to modify fragility curve\n",
    "use_liquefaction = False"
   ]
  },
  {
   "cell_type": "code",
   "execution_count": null,
   "metadata": {},
   "outputs": [],
   "source": [
    "# Create bridge damage \n",
    "bridge_dmg = BridgeDamage(client)\n",
    "# Load input datasets\n",
    "bridge_dmg.load_remote_input_dataset(\"bridges\", bridge_dataset_id)\n",
    "bridge_dmg.load_remote_input_dataset(\"dmg_ratios\", dmg_ratio_id)\n",
    "# Specify the result name\n",
    "result_name = \"bridge_result\"\n",
    "# Set analysis parameters\n",
    "bridge_dmg.set_parameter(\"result_name\", result_name)\n",
    "bridge_dmg.set_parameter(\"mapping_id\", mapping_id)\n",
    "bridge_dmg.set_parameter(\"num_cpu\", 4)\n"
   ]
  },
  {
   "cell_type": "code",
   "execution_count": null,
   "metadata": {},
   "outputs": [],
   "source": [
    "# Run bridge damage analysis\n",
    "bridge_dmg.run_analysis()"
   ]
  }
 ],
 "metadata": {
  "kernelspec": {
   "display_name": "Python 3",
   "language": "python",
   "name": "python3"
  },
  "language_info": {
   "codemirror_mode": {
    "name": "ipython",
    "version": 3
   },
   "file_extension": ".py",
   "mimetype": "text/x-python",
   "name": "python",
   "nbconvert_exporter": "python",
   "pygments_lexer": "ipython3",
   "version": "3.6.5"
  }
 },
 "nbformat": 4,
 "nbformat_minor": 2
}
