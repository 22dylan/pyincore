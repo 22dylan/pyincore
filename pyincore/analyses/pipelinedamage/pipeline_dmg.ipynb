{
 "cells": [
  {
   "cell_type": "code",
   "execution_count": null,
   "metadata": {},
   "outputs": [],
   "source": [
    "# incore2-services earthquake hazard - memphis\n",
    "hazard_service = \"earthquake/5b902cb273c3371e1236b36b\"\n",
    "# This is the Memphis Water Buried Pipeline with Topology dataset the Ergo repository\n",
    "pipeline_dataset_id = \"5a284f28c7d30d13bc081d14\"\n",
    "# pipeline mapping\n",
    "mapping_id = \"5b47ba6f337d4a3721059387\"\n",
    "# geology_dataset_id = \"5ad506f5ec23094e887f4760\"\n",
    "geology_dataset_id = None (edited)"
   ]
  }
 ],
 "metadata": {
  "kernelspec": {
   "display_name": "Python 3",
   "language": "python",
   "name": "python3"
  },
  "language_info": {
   "codemirror_mode": {
    "name": "ipython",
    "version": 3
   },
   "file_extension": ".py",
   "mimetype": "text/x-python",
   "name": "python",
   "nbconvert_exporter": "python",
   "pygments_lexer": "ipython3",
   "version": "3.6.6"
  }
 },
 "nbformat": 4,
 "nbformat_minor": 2
}
