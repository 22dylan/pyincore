{
 "cells": [
  {
   "cell_type": "markdown",
   "metadata": {},
   "source": [
    "## Shelby County Transportation Recovery Model"
   ]
  },
  {
   "cell_type": "code",
   "execution_count": 1,
   "metadata": {},
   "outputs": [],
   "source": [
    "import json\n",
    "import pandas as pd\n",
    "from pyincore import InsecureIncoreClient, InventoryDataset\n",
    "from pyincore.analyses.bridgedamage import BridgeDamage\n",
    "from pyincore.analyses.transportationrecovery import TransportationRecovery\n",
    "from pyincore.analyses.transportationrecovery import TransportationRecoveryUtil"
   ]
  },
  {
   "cell_type": "markdown",
   "metadata": {},
   "source": [
    "## RUN Bridge damage analysis"
   ]
  },
  {
   "cell_type": "markdown",
   "metadata": {},
   "source": [
    "### Set up input datasets and parameters"
   ]
  },
  {
   "cell_type": "code",
   "execution_count": 2,
   "metadata": {},
   "outputs": [],
   "source": [
    "client = InsecureIncoreClient(\"http://incore2-services.ncsa.illinois.edu:8888\", \"incrtest\")\n",
    "hazard_type = \"earthquake\"\n",
    "hazard_id = \"5b902cb273c3371e1236b36b\"\n",
    "dmg_ratio_id = \"5a284f2cc7d30d13bc081f96\"\n",
    "\n",
    "# NBSR bridges\n",
    "bridge_dataset_id = \"5a284f2dc7d30d13bc082040\"\n",
    "\n",
    "# Default Bridge Fragility Mapping on incore-service\n",
    "mapping_id = \"5b47bcce337d4a37755e0cb2\"\n",
    "\n",
    "# Use hazard uncertainty for computing damage\n",
    "use_hazard_uncertainty = False\n",
    "\n",
    "# Use liquefaction (LIQ) column of bridges to modify fragility curve\n",
    "use_liquefaction = False"
   ]
  },
  {
   "cell_type": "code",
   "execution_count": 3,
   "metadata": {},
   "outputs": [
    {
     "name": "stdout",
     "output_type": "stream",
     "text": [
      "It already exsists; no unzip\n",
      "It already exsists; no unzip\n"
     ]
    },
    {
     "data": {
      "text/plain": [
       "True"
      ]
     },
     "execution_count": 3,
     "metadata": {},
     "output_type": "execute_result"
    }
   ],
   "source": [
    "# Create bridge damage \n",
    "bridge_dmg = BridgeDamage(client)\n",
    "\n",
    "# Load input datasets\n",
    "bridge_dmg.load_remote_input_dataset(\"bridges\", bridge_dataset_id)\n",
    "bridge_dmg.load_remote_input_dataset(\"dmg_ratios\", dmg_ratio_id)\n",
    "\n",
    "# Specify the result name\n",
    "result_name = \"bridge_result\"\n",
    "\n",
    "# Set analysis parameters\n",
    "bridge_dmg.set_parameter(\"result_name\", result_name)\n",
    "bridge_dmg.set_parameter(\"mapping_id\", mapping_id)\n",
    "bridge_dmg.set_parameter(\"hazard_type\", hazard_type)\n",
    "bridge_dmg.set_parameter(\"hazard_id\", hazard_id)\n",
    "bridge_dmg.set_parameter(\"num_cpu\", 4)"
   ]
  },
  {
   "cell_type": "code",
   "execution_count": 4,
   "metadata": {},
   "outputs": [
    {
     "data": {
      "text/plain": [
       "True"
      ]
     },
     "execution_count": 4,
     "metadata": {},
     "output_type": "execute_result"
    }
   ],
   "source": [
    "bridge_dmg.run_analysis()"
   ]
  },
  {
   "cell_type": "markdown",
   "metadata": {},
   "source": [
    "### damamge result ouptut"
   ]
  },
  {
   "cell_type": "code",
   "execution_count": 5,
   "metadata": {},
   "outputs": [
    {
     "data": {
      "text/html": [
       "<div>\n",
       "<style scoped>\n",
       "    .dataframe tbody tr th:only-of-type {\n",
       "        vertical-align: middle;\n",
       "    }\n",
       "\n",
       "    .dataframe tbody tr th {\n",
       "        vertical-align: top;\n",
       "    }\n",
       "\n",
       "    .dataframe thead th {\n",
       "        text-align: right;\n",
       "    }\n",
       "</style>\n",
       "<table border=\"1\" class=\"dataframe\">\n",
       "  <thead>\n",
       "    <tr style=\"text-align: right;\">\n",
       "      <th></th>\n",
       "      <th>guid</th>\n",
       "      <th>ls-slight</th>\n",
       "      <th>ls-moderat</th>\n",
       "      <th>ls-extensi</th>\n",
       "      <th>ls-complet</th>\n",
       "      <th>none</th>\n",
       "      <th>slight-mod</th>\n",
       "      <th>mod-extens</th>\n",
       "      <th>ext-comple</th>\n",
       "      <th>complete</th>\n",
       "      <th>meandamage</th>\n",
       "      <th>expectval</th>\n",
       "      <th>retrofit</th>\n",
       "      <th>retro_cost</th>\n",
       "      <th>hazardtype</th>\n",
       "      <th>hazardval</th>\n",
       "    </tr>\n",
       "  </thead>\n",
       "  <tbody>\n",
       "    <tr>\n",
       "      <th>0</th>\n",
       "      <td>dd323e98-811b-4e04-9421-608759833360</td>\n",
       "      <td>0.740530</td>\n",
       "      <td>0.160071</td>\n",
       "      <td>0.064320</td>\n",
       "      <td>0.022382</td>\n",
       "      <td>0.259470</td>\n",
       "      <td>0.580459</td>\n",
       "      <td>0.095751</td>\n",
       "      <td>0.041938</td>\n",
       "      <td>0.022382</td>\n",
       "      <td>0.057940</td>\n",
       "      <td>Moderate</td>\n",
       "      <td>as built</td>\n",
       "      <td>0.0</td>\n",
       "      <td>pga</td>\n",
       "      <td>0.314129</td>\n",
       "    </tr>\n",
       "    <tr>\n",
       "      <th>1</th>\n",
       "      <td>f6d5befe-88c1-4833-9164-6d7ba2b66ca6</td>\n",
       "      <td>0.741328</td>\n",
       "      <td>0.160672</td>\n",
       "      <td>0.064631</td>\n",
       "      <td>0.022513</td>\n",
       "      <td>0.258672</td>\n",
       "      <td>0.580657</td>\n",
       "      <td>0.096041</td>\n",
       "      <td>0.042117</td>\n",
       "      <td>0.022513</td>\n",
       "      <td>0.058146</td>\n",
       "      <td>Moderate</td>\n",
       "      <td>as built</td>\n",
       "      <td>0.0</td>\n",
       "      <td>pga</td>\n",
       "      <td>0.314672</td>\n",
       "    </tr>\n",
       "    <tr>\n",
       "      <th>2</th>\n",
       "      <td>033553d8-100b-4c0f-87a6-de74ffbee25c</td>\n",
       "      <td>0.757964</td>\n",
       "      <td>0.173768</td>\n",
       "      <td>0.071501</td>\n",
       "      <td>0.025464</td>\n",
       "      <td>0.242036</td>\n",
       "      <td>0.584196</td>\n",
       "      <td>0.102267</td>\n",
       "      <td>0.046037</td>\n",
       "      <td>0.025464</td>\n",
       "      <td>0.062680</td>\n",
       "      <td>Moderate</td>\n",
       "      <td>as built</td>\n",
       "      <td>0.0</td>\n",
       "      <td>pga</td>\n",
       "      <td>0.326410</td>\n",
       "    </tr>\n",
       "    <tr>\n",
       "      <th>3</th>\n",
       "      <td>b7312b14-76fc-4548-84aa-f331885a41d1</td>\n",
       "      <td>0.858277</td>\n",
       "      <td>0.261609</td>\n",
       "      <td>0.128316</td>\n",
       "      <td>0.059430</td>\n",
       "      <td>0.141723</td>\n",
       "      <td>0.596668</td>\n",
       "      <td>0.133293</td>\n",
       "      <td>0.068886</td>\n",
       "      <td>0.059430</td>\n",
       "      <td>0.105215</td>\n",
       "      <td>Moderate</td>\n",
       "      <td>as built</td>\n",
       "      <td>0.0</td>\n",
       "      <td>pga</td>\n",
       "      <td>0.339001</td>\n",
       "    </tr>\n",
       "    <tr>\n",
       "      <th>4</th>\n",
       "      <td>103283a3-548e-4368-a38a-bee6fae481ed</td>\n",
       "      <td>0.854595</td>\n",
       "      <td>0.256344</td>\n",
       "      <td>0.124937</td>\n",
       "      <td>0.057531</td>\n",
       "      <td>0.145405</td>\n",
       "      <td>0.598251</td>\n",
       "      <td>0.131406</td>\n",
       "      <td>0.067406</td>\n",
       "      <td>0.057531</td>\n",
       "      <td>0.102843</td>\n",
       "      <td>Moderate</td>\n",
       "      <td>as built</td>\n",
       "      <td>0.0</td>\n",
       "      <td>pga</td>\n",
       "      <td>0.335163</td>\n",
       "    </tr>\n",
       "  </tbody>\n",
       "</table>\n",
       "</div>"
      ],
      "text/plain": [
       "                                   guid  ls-slight  ls-moderat  ls-extensi  \\\n",
       "0  dd323e98-811b-4e04-9421-608759833360   0.740530    0.160071    0.064320   \n",
       "1  f6d5befe-88c1-4833-9164-6d7ba2b66ca6   0.741328    0.160672    0.064631   \n",
       "2  033553d8-100b-4c0f-87a6-de74ffbee25c   0.757964    0.173768    0.071501   \n",
       "3  b7312b14-76fc-4548-84aa-f331885a41d1   0.858277    0.261609    0.128316   \n",
       "4  103283a3-548e-4368-a38a-bee6fae481ed   0.854595    0.256344    0.124937   \n",
       "\n",
       "   ls-complet      none  slight-mod  mod-extens  ext-comple  complete  \\\n",
       "0    0.022382  0.259470    0.580459    0.095751    0.041938  0.022382   \n",
       "1    0.022513  0.258672    0.580657    0.096041    0.042117  0.022513   \n",
       "2    0.025464  0.242036    0.584196    0.102267    0.046037  0.025464   \n",
       "3    0.059430  0.141723    0.596668    0.133293    0.068886  0.059430   \n",
       "4    0.057531  0.145405    0.598251    0.131406    0.067406  0.057531   \n",
       "\n",
       "   meandamage expectval  retrofit  retro_cost hazardtype  hazardval  \n",
       "0    0.057940  Moderate  as built         0.0        pga   0.314129  \n",
       "1    0.058146  Moderate  as built         0.0        pga   0.314672  \n",
       "2    0.062680  Moderate  as built         0.0        pga   0.326410  \n",
       "3    0.105215  Moderate  as built         0.0        pga   0.339001  \n",
       "4    0.102843  Moderate  as built         0.0        pga   0.335163  "
      ]
     },
     "execution_count": 5,
     "metadata": {},
     "output_type": "execute_result"
    }
   ],
   "source": [
    "bridge_damage = pd.read_csv('bridge_result.csv')\n",
    "bridge_damage.head()"
   ]
  },
  {
   "cell_type": "markdown",
   "metadata": {},
   "source": [
    "## lookup average daily traffic from National Bridge Inventory"
   ]
  },
  {
   "cell_type": "raw",
   "metadata": {},
   "source": [
    "# download the ADT information from National Bridge Inventory: \n",
    "# https://www.fhwa.dot.gov/bridge/nbi/ascii.cfm\n",
    "\n",
    "# convert the unit of lat and long from degree to decimal\n",
    "TN17 = TransportationRecoveryUtil.NBI_coordinate_mapping('Data/TN17.csv')\n",
    "TN17.to_csv('TN17.csv')\n",
    "\n",
    "# use GIS tool to convert TN17 into a shapefile"
   ]
  },
  {
   "cell_type": "code",
   "execution_count": 6,
   "metadata": {},
   "outputs": [],
   "source": [
    "bridges_set = InventoryDataset('cache_data/nbsrbridges/nbsrbridges.shp')\n",
    "bridges = list(bridges_set.inventory_set)\n",
    "ADT = TransportationRecoveryUtil.get_average_daily_traffic(bridges, 'Data/TN17.shp')"
   ]
  },
  {
   "cell_type": "code",
   "execution_count": 7,
   "metadata": {},
   "outputs": [
    {
     "data": {
      "text/plain": [
       "{'dd323e98-811b-4e04-9421-608759833360': 22440,\n",
       " 'f6d5befe-88c1-4833-9164-6d7ba2b66ca6': 70820,\n",
       " '033553d8-100b-4c0f-87a6-de74ffbee25c': 116550,\n",
       " 'b7312b14-76fc-4548-84aa-f331885a41d1': 97890,\n",
       " '103283a3-548e-4368-a38a-bee6fae481ed': 89430,\n",
       " 'fb960495-a653-47a7-890f-de3a62e2ae2d': 20540,\n",
       " 'cb175bb2-03ef-4814-ab22-ba7fd1dd5c91': 129470,\n",
       " 'b39f942a-555a-4677-9b62-b13441d6f503': 14130,\n",
       " '66fd8603-c038-4a4d-aec2-667b0ec0e948': 6300,\n",
       " '72022b56-b4d0-4708-b44a-434d76490362': 83630,\n",
       " '165914a0-a651-4b13-8dfa-841247935db0': 65460,\n",
       " '3d84ef35-6170-4386-a18d-43100983345d': 73900,\n",
       " '2bcc4558-e8be-4cd8-9259-6b4872286783': 73900,\n",
       " '8e9a135d-339a-4cb0-87e6-a75589a39823': 103430,\n",
       " 'f82b2aa2-eb61-4f8d-b98f-af4eb5cae488': 39110,\n",
       " 'd5ae7be5-b74f-4f56-92bc-8b246a49fd8f': 29880,\n",
       " '69c93b3e-dc58-412f-bc7e-6c6363b44ccf': 16870,\n",
       " '66a1b90e-cac6-41ff-91d7-16953d9c3e61': 12160,\n",
       " '1e0e2f70-69ee-41a1-bb45-a41dc8194921': 17890,\n",
       " '6d48f606-8e8e-43be-bbc8-7be548f06505': 7770,\n",
       " '98b8083e-b88f-48a8-88b1-045bc5e26d36': 13890,\n",
       " '9859f11b-e11a-4fc0-a96e-e5989a6a244c': 33060,\n",
       " '4c8792c5-70a8-4c1c-b453-243cda28168b': 9470,\n",
       " '2b8a79d0-a6e0-4608-b93a-f002bc6832a5': 147590}"
      ]
     },
     "execution_count": 7,
     "metadata": {},
     "output_type": "execute_result"
    }
   ],
   "source": [
    "ADT"
   ]
  },
  {
   "cell_type": "markdown",
   "metadata": {},
   "source": [
    "### convert bridge damage output to the format that transportation recovery model accepts"
   ]
  },
  {
   "cell_type": "code",
   "execution_count": 8,
   "metadata": {},
   "outputs": [],
   "source": [
    "bridge_damage_value, unrepaired_bridge = TransportationRecoveryUtil.convert_dmg_prob2state(\"bridge_result.csv\")"
   ]
  },
  {
   "cell_type": "code",
   "execution_count": 9,
   "metadata": {},
   "outputs": [
    {
     "data": {
      "text/plain": [
       "{'dd323e98-811b-4e04-9421-608759833360': 1,\n",
       " 'f6d5befe-88c1-4833-9164-6d7ba2b66ca6': 1,\n",
       " '033553d8-100b-4c0f-87a6-de74ffbee25c': 1,\n",
       " 'b7312b14-76fc-4548-84aa-f331885a41d1': 1,\n",
       " '103283a3-548e-4368-a38a-bee6fae481ed': 1,\n",
       " 'fb960495-a653-47a7-890f-de3a62e2ae2d': 1,\n",
       " 'cb175bb2-03ef-4814-ab22-ba7fd1dd5c91': 1,\n",
       " 'b39f942a-555a-4677-9b62-b13441d6f503': 1,\n",
       " '66fd8603-c038-4a4d-aec2-667b0ec0e948': 1,\n",
       " '72022b56-b4d0-4708-b44a-434d76490362': 1,\n",
       " '165914a0-a651-4b13-8dfa-841247935db0': 1,\n",
       " '3d84ef35-6170-4386-a18d-43100983345d': 1,\n",
       " '2bcc4558-e8be-4cd8-9259-6b4872286783': 1,\n",
       " '8e9a135d-339a-4cb0-87e6-a75589a39823': 1,\n",
       " 'f82b2aa2-eb61-4f8d-b98f-af4eb5cae488': 1,\n",
       " 'd5ae7be5-b74f-4f56-92bc-8b246a49fd8f': 1,\n",
       " '69c93b3e-dc58-412f-bc7e-6c6363b44ccf': 1,\n",
       " '66a1b90e-cac6-41ff-91d7-16953d9c3e61': 1,\n",
       " '1e0e2f70-69ee-41a1-bb45-a41dc8194921': 2,\n",
       " '6d48f606-8e8e-43be-bbc8-7be548f06505': 1,\n",
       " '98b8083e-b88f-48a8-88b1-045bc5e26d36': 1,\n",
       " '9859f11b-e11a-4fc0-a96e-e5989a6a244c': 1,\n",
       " '4c8792c5-70a8-4c1c-b453-243cda28168b': 1,\n",
       " '2b8a79d0-a6e0-4608-b93a-f002bc6832a5': 1}"
      ]
     },
     "execution_count": 9,
     "metadata": {},
     "output_type": "execute_result"
    }
   ],
   "source": [
    "bridge_damage_value"
   ]
  },
  {
   "cell_type": "code",
   "execution_count": 10,
   "metadata": {},
   "outputs": [
    {
     "data": {
      "text/plain": [
       "['dd323e98-811b-4e04-9421-608759833360',\n",
       " 'f6d5befe-88c1-4833-9164-6d7ba2b66ca6',\n",
       " '033553d8-100b-4c0f-87a6-de74ffbee25c',\n",
       " 'b7312b14-76fc-4548-84aa-f331885a41d1',\n",
       " '103283a3-548e-4368-a38a-bee6fae481ed',\n",
       " 'fb960495-a653-47a7-890f-de3a62e2ae2d',\n",
       " 'cb175bb2-03ef-4814-ab22-ba7fd1dd5c91',\n",
       " 'b39f942a-555a-4677-9b62-b13441d6f503',\n",
       " '66fd8603-c038-4a4d-aec2-667b0ec0e948',\n",
       " '72022b56-b4d0-4708-b44a-434d76490362',\n",
       " '165914a0-a651-4b13-8dfa-841247935db0',\n",
       " '3d84ef35-6170-4386-a18d-43100983345d',\n",
       " '2bcc4558-e8be-4cd8-9259-6b4872286783',\n",
       " '8e9a135d-339a-4cb0-87e6-a75589a39823',\n",
       " 'f82b2aa2-eb61-4f8d-b98f-af4eb5cae488',\n",
       " 'd5ae7be5-b74f-4f56-92bc-8b246a49fd8f',\n",
       " '69c93b3e-dc58-412f-bc7e-6c6363b44ccf',\n",
       " '66a1b90e-cac6-41ff-91d7-16953d9c3e61',\n",
       " '1e0e2f70-69ee-41a1-bb45-a41dc8194921',\n",
       " '6d48f606-8e8e-43be-bbc8-7be548f06505',\n",
       " '98b8083e-b88f-48a8-88b1-045bc5e26d36',\n",
       " '9859f11b-e11a-4fc0-a96e-e5989a6a244c',\n",
       " '4c8792c5-70a8-4c1c-b453-243cda28168b',\n",
       " '2b8a79d0-a6e0-4608-b93a-f002bc6832a5']"
      ]
     },
     "execution_count": 10,
     "metadata": {},
     "output_type": "execute_result"
    }
   ],
   "source": [
    "unrepaired_bridge"
   ]
  },
  {
   "cell_type": "markdown",
   "metadata": {},
   "source": [
    "## Calculate Transportation Recovery"
   ]
  },
  {
   "cell_type": "code",
   "execution_count": 11,
   "metadata": {},
   "outputs": [],
   "source": [
    "nodes_set = InventoryDataset('Data/Links_wgs84_node.shp')\n",
    "nodes = list(nodes_set.inventory_set)\n",
    "\n",
    "links_set = InventoryDataset('Data/Links_wgs84.shp')\n",
    "links = list(links_set.inventory_set)"
   ]
  },
  {
   "cell_type": "code",
   "execution_count": 12,
   "metadata": {},
   "outputs": [
    {
     "name": "stdout",
     "output_type": "stream",
     "text": [
      "optimal_solution_of_bridge_repair_schedule.csv saved!\n",
      "overall_transportation_recovery_trajectory.csv saved!\n"
     ]
    }
   ],
   "source": [
    "transportation_recovery = TransportationRecovery(nodes, links, bridges, bridge_damage_value, unrepaired_bridge, ADT)\n",
    "transportation_recovery.calc_recovery_scenario(pm=1,\n",
    "                                               ini_num_population=5,\n",
    "                                               population_size=3,\n",
    "                                               num_generation=2,\n",
    "                                               mutation_rate=0.1,\n",
    "                                               crossover_rate=1.0)"
   ]
  },
  {
   "cell_type": "code",
   "execution_count": 13,
   "metadata": {},
   "outputs": [
    {
     "data": {
      "text/html": [
       "<div>\n",
       "<style scoped>\n",
       "    .dataframe tbody tr th:only-of-type {\n",
       "        vertical-align: middle;\n",
       "    }\n",
       "\n",
       "    .dataframe tbody tr th {\n",
       "        vertical-align: top;\n",
       "    }\n",
       "\n",
       "    .dataframe thead th {\n",
       "        text-align: right;\n",
       "    }\n",
       "</style>\n",
       "<table border=\"1\" class=\"dataframe\">\n",
       "  <thead>\n",
       "    <tr style=\"text-align: right;\">\n",
       "      <th></th>\n",
       "      <th>Bridge ID</th>\n",
       "      <th>Ending Time</th>\n",
       "    </tr>\n",
       "  </thead>\n",
       "  <tbody>\n",
       "    <tr>\n",
       "      <th>0</th>\n",
       "      <td>b7312b14-76fc-4548-84aa-f331885a41d1</td>\n",
       "      <td>0.6</td>\n",
       "    </tr>\n",
       "    <tr>\n",
       "      <th>1</th>\n",
       "      <td>103283a3-548e-4368-a38a-bee6fae481ed</td>\n",
       "      <td>0.6</td>\n",
       "    </tr>\n",
       "    <tr>\n",
       "      <th>2</th>\n",
       "      <td>fb960495-a653-47a7-890f-de3a62e2ae2d</td>\n",
       "      <td>0.6</td>\n",
       "    </tr>\n",
       "    <tr>\n",
       "      <th>3</th>\n",
       "      <td>cb175bb2-03ef-4814-ab22-ba7fd1dd5c91</td>\n",
       "      <td>1.2</td>\n",
       "    </tr>\n",
       "    <tr>\n",
       "      <th>4</th>\n",
       "      <td>66fd8603-c038-4a4d-aec2-667b0ec0e948</td>\n",
       "      <td>0.6</td>\n",
       "    </tr>\n",
       "  </tbody>\n",
       "</table>\n",
       "</div>"
      ],
      "text/plain": [
       "                              Bridge ID  Ending Time\n",
       "0  b7312b14-76fc-4548-84aa-f331885a41d1          0.6\n",
       "1  103283a3-548e-4368-a38a-bee6fae481ed          0.6\n",
       "2  fb960495-a653-47a7-890f-de3a62e2ae2d          0.6\n",
       "3  cb175bb2-03ef-4814-ab22-ba7fd1dd5c91          1.2\n",
       "4  66fd8603-c038-4a4d-aec2-667b0ec0e948          0.6"
      ]
     },
     "execution_count": 13,
     "metadata": {},
     "output_type": "execute_result"
    }
   ],
   "source": [
    "repair_schedule = pd.read_csv('optimal_solution_of_bridge_repair_schedule.csv')\n",
    "repair_schedule.head()"
   ]
  },
  {
   "cell_type": "code",
   "execution_count": 14,
   "metadata": {},
   "outputs": [
    {
     "data": {
      "text/html": [
       "<div>\n",
       "<style scoped>\n",
       "    .dataframe tbody tr th:only-of-type {\n",
       "        vertical-align: middle;\n",
       "    }\n",
       "\n",
       "    .dataframe tbody tr th {\n",
       "        vertical-align: top;\n",
       "    }\n",
       "\n",
       "    .dataframe thead th {\n",
       "        text-align: right;\n",
       "    }\n",
       "</style>\n",
       "<table border=\"1\" class=\"dataframe\">\n",
       "  <thead>\n",
       "    <tr style=\"text-align: right;\">\n",
       "      <th></th>\n",
       "      <th>Ending Time</th>\n",
       "      <th>Travel Efficiency</th>\n",
       "    </tr>\n",
       "  </thead>\n",
       "  <tbody>\n",
       "    <tr>\n",
       "      <th>0</th>\n",
       "      <td>0.6</td>\n",
       "      <td>0.894795</td>\n",
       "    </tr>\n",
       "    <tr>\n",
       "      <th>1</th>\n",
       "      <td>1.2</td>\n",
       "      <td>0.932700</td>\n",
       "    </tr>\n",
       "    <tr>\n",
       "      <th>2</th>\n",
       "      <td>1.8</td>\n",
       "      <td>0.974815</td>\n",
       "    </tr>\n",
       "    <tr>\n",
       "      <th>3</th>\n",
       "      <td>2.4</td>\n",
       "      <td>0.989937</td>\n",
       "    </tr>\n",
       "    <tr>\n",
       "      <th>4</th>\n",
       "      <td>2.5</td>\n",
       "      <td>1.000000</td>\n",
       "    </tr>\n",
       "  </tbody>\n",
       "</table>\n",
       "</div>"
      ],
      "text/plain": [
       "   Ending Time  Travel Efficiency\n",
       "0          0.6           0.894795\n",
       "1          1.2           0.932700\n",
       "2          1.8           0.974815\n",
       "3          2.4           0.989937\n",
       "4          2.5           1.000000"
      ]
     },
     "execution_count": 14,
     "metadata": {},
     "output_type": "execute_result"
    }
   ],
   "source": [
    "recovery_trajectory = pd.read_csv('overall_transportation_recovery_trajectory.csv')\n",
    "recovery_trajectory.head()"
   ]
  },
  {
   "cell_type": "code",
   "execution_count": null,
   "metadata": {},
   "outputs": [],
   "source": []
  }
 ],
 "metadata": {
  "kernelspec": {
   "display_name": "Python 3",
   "language": "python",
   "name": "python3"
  },
  "language_info": {
   "codemirror_mode": {
    "name": "ipython",
    "version": 3
   },
   "file_extension": ".py",
   "mimetype": "text/x-python",
   "name": "python",
   "nbconvert_exporter": "python",
   "pygments_lexer": "ipython3",
   "version": "3.6.4"
  }
 },
 "nbformat": 4,
 "nbformat_minor": 2
}
