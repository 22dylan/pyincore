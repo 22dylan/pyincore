{
 "cells": [
  {
   "cell_type": "markdown",
   "metadata": {},
   "source": [
    "# Demo prototypes of IN-CORE services\n",
    "This notebook shows how to use prototypes of IN-CORE services by using pyincore library. This demo shows how you can use IN-CORE services with other python libraries"
   ]
  },
  {
   "cell_type": "code",
   "execution_count": null,
   "metadata": {
    "collapsed": true
   },
   "outputs": [],
   "source": [
    "from pyincore import FragilityService, DataService, HazardService, ComputeDamage\n",
    "from pyincore import PlotUtil\n",
    "from pyincore import InventoryDataset\n",
    "import pprint\n",
    "pp = pprint.PrettyPrinter(indent=4)"
   ]
  },
  {
   "cell_type": "markdown",
   "metadata": {},
   "source": [
    "## Using Data Service (http://localhost:8080/data/api/datasets)\n",
    "* __get_datasets(...)__: retriving metadata with a query (by data type or/and by title)\n",
    "* __get_dataset_metadata(...)__: retrieving metadata of dataset\n",
    "* __get_dataset__: retrieving files of dataset"
   ]
  },
  {
   "cell_type": "markdown",
   "metadata": {},
   "source": [
    "### Find dataset that contains \"hospital\" in the title"
   ]
  },
  {
   "cell_type": "code",
   "execution_count": null,
   "metadata": {
    "scrolled": true
   },
   "outputs": [],
   "source": [
    "DataService.get_datasets('http://localhost:8080',title=\"hospital\")"
   ]
  },
  {
   "cell_type": "markdown",
   "metadata": {},
   "source": [
    "### Download the files of Hospital dataset"
   ]
  },
  {
   "cell_type": "code",
   "execution_count": null,
   "metadata": {},
   "outputs": [],
   "source": [
    "localfile = DataService.get_dataset('http://localhost:8080', '59f3617de1b2b828641a012a')\n",
    "buildings = InventoryDataset(localfile)"
   ]
  },
  {
   "cell_type": "markdown",
   "metadata": {},
   "source": [
    "### IN-CORE web service can work with other popular python library (e.g. GeoPandas) \n",
    "The following shows plotting the dataset from IN-CORE web service by using GeoPandas"
   ]
  },
  {
   "cell_type": "code",
   "execution_count": null,
   "metadata": {
    "collapsed": true
   },
   "outputs": [],
   "source": [
    "import geopandas as gpd\n",
    "gdf = gpd.GeoDataFrame.from_features(buildings.inventory_set)\n",
    "#hospital= gpd.read_file('data/Hospitals1228337472406', layer='all_bldgs_ver5_WGS1984')"
   ]
  },
  {
   "cell_type": "code",
   "execution_count": null,
   "metadata": {},
   "outputs": [],
   "source": [
    "%matplotlib inline\n",
    "import matplotlib.pylab as pylab\n",
    "pylab.rcParams['figure.figsize'] = 8, 6\n",
    "gdf.plot()"
   ]
  },
  {
   "cell_type": "code",
   "execution_count": null,
   "metadata": {},
   "outputs": [],
   "source": [
    "## show Top 5 rows of attribute table of the Hospital dataset\n",
    "gdf.head()"
   ]
  },
  {
   "cell_type": "markdown",
   "metadata": {},
   "source": [
    "### Showing hospital dataset (IN-CORE service) on Open Street Map by using GeoPandas and Folium"
   ]
  },
  {
   "cell_type": "code",
   "execution_count": null,
   "metadata": {},
   "outputs": [],
   "source": [
    "import folium\n",
    "\n",
    "m = folium.Map(location=[-89.88505, 35.220586])\n",
    "folium.GeoJson(gdf.to_json(), name='hospital').add_to(m)\n",
    "ext = gdf.total_bounds\n",
    "m.fit_bounds([[ext[1], ext[0]], [ext[3], ext[2]]])\n",
    "m"
   ]
  },
  {
   "cell_type": "markdown",
   "metadata": {},
   "source": [
    "## Using Glossary Service (https://resilience-glossary.ncsa.illinois.edu)\n",
    "* __get_term(...)__: retriving a term from the glossary service"
   ]
  },
  {
   "cell_type": "code",
   "execution_count": null,
   "metadata": {},
   "outputs": [],
   "source": [
    "from pyincore import GlossaryService\n",
    "term = GlossaryService.get_term(\"https://resilience-glossary.ncsa.illinois.edu\", \"Q446\")\n",
    "term.description"
   ]
  },
  {
   "cell_type": "markdown",
   "metadata": {},
   "source": [
    "# Building Damage Estimation by using Data Service, Fragility Service, and Hazard Service \n",
    "The following examples show how building damage can be computed by using Data Service, Fragility Service and Hazard Service. "
   ]
  },
  {
   "cell_type": "markdown",
   "metadata": {},
   "source": [
    "### Step 1. Retrive a building from Hospital dataset"
   ]
  },
  {
   "cell_type": "code",
   "execution_count": null,
   "metadata": {
    "collapsed": true
   },
   "outputs": [],
   "source": [
    "building = next(iter(buildings.inventory_set))"
   ]
  },
  {
   "cell_type": "markdown",
   "metadata": {},
   "source": [
    "### Step 2. Retrive a Fragility Curve Set\n",
    "* The Fragility Service finds a fragility curve set with the structure attribute of the building"
   ]
  },
  {
   "cell_type": "code",
   "execution_count": null,
   "metadata": {},
   "outputs": [],
   "source": [
    "fragility_set = FragilityService.map_fragility('http://localhost:8080', building, \"Non-Retrofit Fragility ID Code\")\n",
    "\n",
    "## print the retrived fragility curve set\n",
    "fragility_set"
   ]
  },
  {
   "cell_type": "code",
   "execution_count": null,
   "metadata": {},
   "outputs": [],
   "source": [
    "## Plot the fragility curve set\n",
    "## plot the retrived f\n",
    "import matplotlib.pyplot as plt\n",
    "\n",
    "for curve in fragility_set['fragilityCurves']:\n",
    "    x,y = PlotUtil.get_x_y(curve['curveType'],curve['median'],curve['beta'])\n",
    "    plt.plot(x,y, label=curve['description'])\n",
    "plt.xlabel(fragility_set['demandType']+\" (\"+fragility_set['demandUnits']+\")\")\n",
    "plt.legend()\n",
    "plt.show()"
   ]
  },
  {
   "cell_type": "markdown",
   "metadata": {},
   "source": [
    "### Step 3: Getting Hazard Value at the location of the building\n",
    "* Scenario earthquake has been created at the service with the following parameters:\n",
    "    * AtkinsonBoore 1995\n",
    "    * Epicenter (lat/lon): 35.927, -89.919\n",
    "    * Magnitude: 7.9\n",
    "    * Depth: 10.0\n",
    "* Plot the scenario earthquake with sampling data from Hazard Service"
   ]
  },
  {
   "cell_type": "code",
   "execution_count": null,
   "metadata": {},
   "outputs": [],
   "source": [
    "import numpy as np\n",
    "from scipy.interpolate import griddata\n",
    "x, y, z = HazardService.get_hazard_value_set(\"http://localhost:8080\", \"59f8e10004c01e79c4a67a88\", \"PGA\", \"g\", [[-90.3099,34.9942],[-89.6231,35.4129]], 0.01696)\n",
    "grid_x, grid_y = np.mgrid[min(x):max(x):100j, min(y):max(y):100j]\n",
    "grid_z = griddata((x, y), z, (grid_x, grid_y), method='cubic')\n",
    "contour_filled=plt.contourf(grid_x, grid_y, grid_z, 20, cmap=\"gist_rainbow_r\")\n",
    "plt.colorbar(contour_filled)\n",
    "plt.show()"
   ]
  },
  {
   "cell_type": "markdown",
   "metadata": {},
   "source": [
    "* __Getting a hazard value at the location of the building by using Hazard Service__"
   ]
  },
  {
   "cell_type": "code",
   "execution_count": null,
   "metadata": {},
   "outputs": [],
   "source": [
    "latlon = building['geometry']['coordinates']\n",
    "haz_val = HazardService.get_hazard_value(\"http://localhost:8080\", \"59f8e10004c01e79c4a67a88\", \"PGA\", \"g\", latlon[1], latlon[0])\n",
    "haz_val"
   ]
  },
  {
   "cell_type": "markdown",
   "metadata": {},
   "source": [
    "### Step 4. Compute limit states with the fragility curve sets and the hazard value"
   ]
  },
  {
   "cell_type": "code",
   "execution_count": null,
   "metadata": {},
   "outputs": [],
   "source": [
    "damage = ComputeDamage.calculate_damage_json2(fragility_set, haz_val)\n",
    "damage"
   ]
  },
  {
   "cell_type": "markdown",
   "metadata": {},
   "source": [
    "## This demonstrates that IN-CORE web services can be used with popular python libraries (Statisitcs, Data analysis etc) "
   ]
  },
  {
   "cell_type": "code",
   "execution_count": null,
   "metadata": {
    "collapsed": true
   },
   "outputs": [],
   "source": [
    "import numpy as np\n",
    "from scipy import ndimage\n",
    "def heatmap(d, bins=(100,100), smoothing=1.3, cmap='jet'):\n",
    "    def getx(pt):\n",
    "        return pt.coords[0][0]\n",
    "\n",
    "    def gety(pt):\n",
    "        return pt.coords[0][1]\n",
    "\n",
    "    x = list(d.geometry.apply(getx))\n",
    "    y = list(d.geometry.apply(gety))\n",
    "    heatmap, xedges, yedges = np.histogram2d(y, x, bins=bins)\n",
    "    extent = [yedges[0], yedges[-1], xedges[-1], xedges[0]]\n",
    "\n",
    "    logheatmap = np.log(heatmap)\n",
    "    logheatmap[np.isneginf(logheatmap)] = 0\n",
    "    logheatmap = ndimage.filters.gaussian_filter(logheatmap, smoothing, mode='nearest')\n",
    "    \n",
    "    plt.imshow(logheatmap, cmap=cmap, extent=extent)\n",
    "    plt.colorbar()\n",
    "    plt.gca().invert_yaxis()\n",
    "    plt.show()"
   ]
  },
  {
   "cell_type": "code",
   "execution_count": null,
   "metadata": {},
   "outputs": [],
   "source": [
    "localfile_res3 = DataService.get_dataset('http://localhost:8080', '59f36185e1b2b828641a0189')\n",
    "res3 = InventoryDataset(localfile_res3)"
   ]
  },
  {
   "cell_type": "code",
   "execution_count": null,
   "metadata": {},
   "outputs": [],
   "source": [
    "res3_gdf = gpd.GeoDataFrame.from_features(res3.inventory_set)\n",
    "heatmap(res3_gdf, bins=100, smoothing=1.5)\n"
   ]
  },
  {
   "cell_type": "code",
   "execution_count": null,
   "metadata": {
    "collapsed": true
   },
   "outputs": [],
   "source": []
  }
 ],
 "metadata": {
  "kernelspec": {
   "display_name": "Python 3",
   "language": "python",
   "name": "python3"
  },
  "language_info": {
   "codemirror_mode": {
    "name": "ipython",
    "version": 3
   },
   "file_extension": ".py",
   "mimetype": "text/x-python",
   "name": "python",
   "nbconvert_exporter": "python",
   "pygments_lexer": "ipython3",
   "version": "3.7.3"
  }
 },
 "nbformat": 4,
 "nbformat_minor": 2
}
