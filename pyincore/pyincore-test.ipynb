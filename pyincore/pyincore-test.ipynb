{
 "cells": [
  {
   "cell_type": "code",
   "execution_count": 1,
   "metadata": {
    "collapsed": true
   },
   "outputs": [],
   "source": [
    "from pyincore import FragilityService\n",
    "from pyincore import PlotUtil\n",
    "from pyincore import InventoryDataset\n",
    "import pprint\n",
    "pp = pprint.PrettyPrinter(indent=4)"
   ]
  },
  {
   "cell_type": "markdown",
   "metadata": {},
   "source": [
    "Getting a Fragility Set from the service"
   ]
  },
  {
   "cell_type": "code",
   "execution_count": 2,
   "metadata": {
    "collapsed": true,
    "scrolled": true
   },
   "outputs": [],
   "source": [
    "fs = FragilityService.get_fragility_set('http://localhost:8080', \"5894e7121a74393018c3d056\", False)"
   ]
  },
  {
   "cell_type": "markdown",
   "metadata": {},
   "source": [
    "Print Fragility Set obtained from fragility service"
   ]
  },
  {
   "cell_type": "code",
   "execution_count": 3,
   "metadata": {
    "scrolled": false
   },
   "outputs": [
    {
     "name": "stdout",
     "output_type": "stream",
     "text": [
      "{   'authors': ['Amr S. Elnashai', 'Seong-Hoon Jeong', 'Joshua S. Steelman'],\n",
      "    'demandType': 'PGA',\n",
      "    'demandUnits': 'g',\n",
      "    'description': 'Light Wood Frame',\n",
      "    'fragilityCurves': [   {   'beta': 0.398,\n",
      "                               'className': 'edu.illinois.ncsa.incore.service.fragility.models.PeriodStandardFragilityCurve',\n",
      "                               'curveType': 'LogNormal',\n",
      "                               'description': 'Moderate',\n",
      "                               'median': -1.718,\n",
      "                               'periodEqnType': 1,\n",
      "                               'periodParam0': 0.35,\n",
      "                               'periodParam1': 0.0,\n",
      "                               'periodParam2': 0.0},\n",
      "                           {   'beta': 0.398,\n",
      "                               'className': 'edu.illinois.ncsa.incore.service.fragility.models.PeriodStandardFragilityCurve',\n",
      "                               'curveType': 'LogNormal',\n",
      "                               'description': 'Extensive',\n",
      "                               'median': -1.187,\n",
      "                               'periodEqnType': 1,\n",
      "                               'periodParam0': 0.35,\n",
      "                               'periodParam1': 0.0,\n",
      "                               'periodParam2': 0.0},\n",
      "                           {   'beta': 0.398,\n",
      "                               'className': 'edu.illinois.ncsa.incore.service.fragility.models.PeriodStandardFragilityCurve',\n",
      "                               'curveType': 'LogNormal',\n",
      "                               'description': 'Complete',\n",
      "                               'median': -0.863,\n",
      "                               'periodEqnType': 1,\n",
      "                               'periodParam0': 0.35,\n",
      "                               'periodParam1': 0.0,\n",
      "                               'periodParam2': 0.0}],\n",
      "    'hazardType': 'Seismic',\n",
      "    'id': '5894e7121a74393018c3d056',\n",
      "    'inventoryType': 'Building',\n",
      "    'legacyId': 'NSDS_PFM_MTB_LL_2475_W1_1',\n",
      "    'paperReference': None,\n",
      "    'resultType': 'Limit State',\n",
      "    'resultUnit': None}\n"
     ]
    }
   ],
   "source": [
    "pp.pprint(fs)"
   ]
  },
  {
   "cell_type": "code",
   "execution_count": 4,
   "metadata": {},
   "outputs": [
    {
     "data": {
      "image/png": "[encoded data removed]",
      "text/plain": [
       "<matplotlib.figure.Figure at 0x16df253b6d8>"
      ]
     },
     "metadata": {},
     "output_type": "display_data"
    }
   ],
   "source": [
    "import matplotlib.pyplot as plt\n",
    "# Plot the curves by curve type\n",
    "for curve in fs['fragilityCurves']:\n",
    "    x,y = PlotUtil.get_x_y(curve['curveType'],curve['median'],curve['beta'])\n",
    "    plt.plot(x,y, label=curve['description'])\n",
    "plt.xlabel(fs['demandType']+\" (\"+fs['demandUnits']+\")\")\n",
    "plt.legend()\n",
    "plt.show()"
   ]
  },
  {
   "cell_type": "code",
   "execution_count": 5,
   "metadata": {},
   "outputs": [
    {
     "data": {
      "text/plain": [
       "OrderedDict([('Moderate', 0.99498809831942514),\n",
       "             ('Extensive', 0.89266687281088219),\n",
       "             ('Complete', 0.66522506899775546)])"
      ]
     },
     "execution_count": 5,
     "metadata": {},
     "output_type": "execute_result"
    }
   ],
   "source": [
    "from pyincore import ComputeDamage\n",
    "ComputeDamage.calculate_damage_json2(fs, 0.5)"
   ]
  },
  {
   "cell_type": "code",
   "execution_count": 6,
   "metadata": {},
   "outputs": [
    {
     "name": "stdout",
     "output_type": "stream",
     "text": [
      "{   'contributors': [],\n",
      "    'creator': None,\n",
      "    'date': '2017-10-27T11:40:29-0500',\n",
      "    'deleted': False,\n",
      "    'description': '',\n",
      "    'fileDescriptors': [   {   'dataURL': 'file:/C:/Rest/59/f3/59f3617de1b2b828641a012c/Hospitals1228337472406.mvz',\n",
      "                               'deleted': False,\n",
      "                               'filename': 'Hospitals1228337472406.mvz',\n",
      "                               'id': '59f3617de1b2b828641a012c',\n",
      "                               'md5sum': 'b14425c3394e923709d7994f433af48e',\n",
      "                               'mimeType': 'application/octet-stream',\n",
      "                               'size': 1554},\n",
      "                           {   'dataURL': 'file:/C:/Rest/59/f3/59f3617de1b2b828641a012f/all_bldgs_ver5_WGS1984.dbf',\n",
      "                               'deleted': False,\n",
      "                               'filename': 'all_bldgs_ver5_WGS1984.dbf',\n",
      "                               'id': '59f3617de1b2b828641a012f',\n",
      "                               'md5sum': '7ea0a4c769ca254a6b4821f2e737eb35',\n",
      "                               'mimeType': 'application/octet-stream',\n",
      "                               'size': 10859},\n",
      "                           {   'dataURL': 'file:/C:/Rest/59/f3/59f3617de1b2b828641a0132/all_bldgs_ver5_WGS1984.fix',\n",
      "                               'deleted': False,\n",
      "                               'filename': 'all_bldgs_ver5_WGS1984.fix',\n",
      "                               'id': '59f3617de1b2b828641a0132',\n",
      "                               'md5sum': '15c08cc1fac086265cb57ceac0785acb',\n",
      "                               'mimeType': 'application/octet-stream',\n",
      "                               'size': 277},\n",
      "                           {   'dataURL': 'file:/C:/Rest/59/f3/59f3617de1b2b828641a0135/all_bldgs_ver5_WGS1984.prj',\n",
      "                               'deleted': False,\n",
      "                               'filename': 'all_bldgs_ver5_WGS1984.prj',\n",
      "                               'id': '59f3617de1b2b828641a0135',\n",
      "                               'md5sum': '30e5566d68356bfc059d296c42c0480e',\n",
      "                               'mimeType': 'application/octet-stream',\n",
      "                               'size': 205},\n",
      "                           {   'dataURL': 'file:/C:/Rest/59/f3/59f3617de1b2b828641a0138/all_bldgs_ver5_WGS1984.qix',\n",
      "                               'deleted': False,\n",
      "                               'filename': 'all_bldgs_ver5_WGS1984.qix',\n",
      "                               'id': '59f3617de1b2b828641a0138',\n",
      "                               'md5sum': 'a1cba745192516c7e1cd0e4d4d13497c',\n",
      "                               'mimeType': 'application/octet-stream',\n",
      "                               'size': 632},\n",
      "                           {   'dataURL': 'file:/C:/Rest/59/f3/59f3617de1b2b828641a013b/all_bldgs_ver5_WGS1984.shp',\n",
      "                               'deleted': False,\n",
      "                               'filename': 'all_bldgs_ver5_WGS1984.shp',\n",
      "                               'id': '59f3617de1b2b828641a013b',\n",
      "                               'md5sum': '6e1e96c4a6cf5762317054fe813d82bf',\n",
      "                               'mimeType': 'application/octet-stream',\n",
      "                               'size': 716},\n",
      "                           {   'dataURL': 'file:/C:/Rest/59/f3/59f3617de1b2b828641a013e/all_bldgs_ver5_WGS1984.shx',\n",
      "                               'deleted': False,\n",
      "                               'filename': 'all_bldgs_ver5_WGS1984.shx',\n",
      "                               'id': '59f3617de1b2b828641a013e',\n",
      "                               'md5sum': '799965579a991f1f45afeb22c07c5ece',\n",
      "                               'mimeType': 'application/octet-stream',\n",
      "                               'size': 276}],\n",
      "    'format': 'shapefile',\n",
      "    'id': '59f3617de1b2b828641a012a',\n",
      "    'sourceDataset': '',\n",
      "    'spaces': ['earthquake'],\n",
      "    'storedUrl': '',\n",
      "    'title': 'Hospitals',\n",
      "    'type': 'edu.illinois.ncsa.ergo.eq.buildings.schemas.buildingInventoryVer5.v1.0'}\n"
     ]
    }
   ],
   "source": [
    "from pyincore import DataService\n",
    "metadata = DataService.get_dataset_metadata('http://localhost:8080', '59f3617de1b2b828641a012a')\n",
    "pp.pprint(metadata)"
   ]
  },
  {
   "cell_type": "code",
   "execution_count": 7,
   "metadata": {},
   "outputs": [
    {
     "name": "stderr",
     "output_type": "stream",
     "text": [
      "WARNING:Fiona:GDAL data files not located, GDAL_DATA not set\n",
      "WARNING:Fiona:GDAL data files not located, GDAL_DATA not set\n"
     ]
    },
    {
     "name": "stdout",
     "output_type": "stream",
     "text": [
      "It already exsists; no unzip\n"
     ]
    }
   ],
   "source": [
    "localfile = DataService.get_dataset('http://localhost:8080', '59f3617de1b2b828641a012a')\n",
    "hospital = InventoryDataset(localfile)"
   ]
  },
  {
   "cell_type": "code",
   "execution_count": 8,
   "metadata": {
    "collapsed": true
   },
   "outputs": [],
   "source": [
    "import geopandas as gpd\n",
    "gdf = gpd.GeoDataFrame.from_features(hospital.inventory_set)\n",
    "#hospital= gpd.read_file('data/Hospitals1228337472406', layer='all_bldgs_ver5_WGS1984')"
   ]
  },
  {
   "cell_type": "code",
   "execution_count": 9,
   "metadata": {},
   "outputs": [
    {
     "data": {
      "text/plain": [
       "<matplotlib.axes._subplots.AxesSubplot at 0x16df4660908>"
      ]
     },
     "execution_count": 9,
     "metadata": {},
     "output_type": "execute_result"
    },
    {
     "data": {
      "image/png": "[encoded data removed]",
      "text/plain": [
       "<matplotlib.figure.Figure at 0x16df45ff6d8>"
      ]
     },
     "metadata": {},
     "output_type": "display_data"
    }
   ],
   "source": [
    "%matplotlib inline\n",
    "import matplotlib.pylab as pylab\n",
    "import matplotlib.pyplot as plt\n",
    "pylab.rcParams['figure.figsize'] = 8, 6\n",
    "gdf.plot()"
   ]
  },
  {
   "cell_type": "code",
   "execution_count": 10,
   "metadata": {},
   "outputs": [
    {
     "data": {
      "text/html": [
       "<div>\n",
       "<style scoped>\n",
       "    .dataframe tbody tr th:only-of-type {\n",
       "        vertical-align: middle;\n",
       "    }\n",
       "\n",
       "    .dataframe tbody tr th {\n",
       "        vertical-align: top;\n",
       "    }\n",
       "\n",
       "    .dataframe thead th {\n",
       "        text-align: right;\n",
       "    }\n",
       "</style>\n",
       "<table border=\"1\" class=\"dataframe\">\n",
       "  <thead>\n",
       "    <tr style=\"text-align: right;\">\n",
       "      <th></th>\n",
       "      <th>IMPUTED</th>\n",
       "      <th>Soil</th>\n",
       "      <th>a_stories</th>\n",
       "      <th>appr_bldg</th>\n",
       "      <th>b_stories</th>\n",
       "      <th>bldg_id</th>\n",
       "      <th>broad_occ</th>\n",
       "      <th>bsmt_type</th>\n",
       "      <th>cont_val</th>\n",
       "      <th>dgn_lvl</th>\n",
       "      <th>...</th>\n",
       "      <th>parid</th>\n",
       "      <th>parid_card</th>\n",
       "      <th>repl_cst</th>\n",
       "      <th>sq_foot</th>\n",
       "      <th>str_cst</th>\n",
       "      <th>str_prob</th>\n",
       "      <th>str_typ2</th>\n",
       "      <th>struct_typ</th>\n",
       "      <th>tract_id</th>\n",
       "      <th>year_built</th>\n",
       "    </tr>\n",
       "  </thead>\n",
       "  <tbody>\n",
       "    <tr>\n",
       "      <th>0</th>\n",
       "      <td>F</td>\n",
       "      <td>Upland</td>\n",
       "      <td>1</td>\n",
       "      <td>163315</td>\n",
       "      <td>0</td>\n",
       "      <td>018060  00010_2_1</td>\n",
       "      <td>Health Care</td>\n",
       "      <td>NONE</td>\n",
       "      <td>2042598</td>\n",
       "      <td>Moderate - Code</td>\n",
       "      <td>...</td>\n",
       "      <td>018060  00010</td>\n",
       "      <td>018060  00010_2</td>\n",
       "      <td>1361732</td>\n",
       "      <td>6062</td>\n",
       "      <td>186557</td>\n",
       "      <td>1.00000</td>\n",
       "      <td>C1L</td>\n",
       "      <td>C1</td>\n",
       "      <td>47157003800</td>\n",
       "      <td>1978</td>\n",
       "    </tr>\n",
       "    <tr>\n",
       "      <th>1</th>\n",
       "      <td>F</td>\n",
       "      <td>Upland</td>\n",
       "      <td>3</td>\n",
       "      <td>524485</td>\n",
       "      <td>1</td>\n",
       "      <td>018060  00010_1_1</td>\n",
       "      <td>Health Care</td>\n",
       "      <td>COMMERCIAL BSMT</td>\n",
       "      <td>6363539</td>\n",
       "      <td>Pre - Code</td>\n",
       "      <td>...</td>\n",
       "      <td>018060  00010</td>\n",
       "      <td>018060  00010_1</td>\n",
       "      <td>4242359</td>\n",
       "      <td>19468</td>\n",
       "      <td>547264</td>\n",
       "      <td>1.00000</td>\n",
       "      <td>C1L</td>\n",
       "      <td>C1</td>\n",
       "      <td>47157003800</td>\n",
       "      <td>1925</td>\n",
       "    </tr>\n",
       "    <tr>\n",
       "      <th>2</th>\n",
       "      <td>F</td>\n",
       "      <td>Upland</td>\n",
       "      <td>13</td>\n",
       "      <td>49457042</td>\n",
       "      <td>1</td>\n",
       "      <td>016001  00001C_1_1</td>\n",
       "      <td>Health Care</td>\n",
       "      <td>COMMERCIAL BSMT</td>\n",
       "      <td>251974698</td>\n",
       "      <td>Pre - Code</td>\n",
       "      <td>...</td>\n",
       "      <td>016001  00001C</td>\n",
       "      <td>016001  00001C_1</td>\n",
       "      <td>167983132</td>\n",
       "      <td>910583</td>\n",
       "      <td>21669824</td>\n",
       "      <td>0.95161</td>\n",
       "      <td>S1H</td>\n",
       "      <td>S1</td>\n",
       "      <td>47157003600</td>\n",
       "      <td>1924</td>\n",
       "    </tr>\n",
       "    <tr>\n",
       "      <th>3</th>\n",
       "      <td>F</td>\n",
       "      <td>Lowland</td>\n",
       "      <td>3</td>\n",
       "      <td>367311</td>\n",
       "      <td>2</td>\n",
       "      <td>012008  00012_1_1</td>\n",
       "      <td>Health Care</td>\n",
       "      <td>COMMERCIAL BSMT</td>\n",
       "      <td>21677039</td>\n",
       "      <td>Pre - Code</td>\n",
       "      <td>...</td>\n",
       "      <td>012008  00012</td>\n",
       "      <td>012008  00012_1</td>\n",
       "      <td>14451359</td>\n",
       "      <td>65112</td>\n",
       "      <td>1864225</td>\n",
       "      <td>0.88908</td>\n",
       "      <td>URML</td>\n",
       "      <td>URM</td>\n",
       "      <td>47157005200</td>\n",
       "      <td>1910</td>\n",
       "    </tr>\n",
       "    <tr>\n",
       "      <th>4</th>\n",
       "      <td>F</td>\n",
       "      <td>Upland</td>\n",
       "      <td>2</td>\n",
       "      <td>1027399</td>\n",
       "      <td>0</td>\n",
       "      <td>001041  00001C_8_1</td>\n",
       "      <td>Health Care</td>\n",
       "      <td>NONE</td>\n",
       "      <td>10456153</td>\n",
       "      <td>Moderate - Code</td>\n",
       "      <td>...</td>\n",
       "      <td>001041  00001C</td>\n",
       "      <td>001041  00001C_8</td>\n",
       "      <td>6970769</td>\n",
       "      <td>32094</td>\n",
       "      <td>954995</td>\n",
       "      <td>0.64700</td>\n",
       "      <td>S1L</td>\n",
       "      <td>S1</td>\n",
       "      <td>47157002200</td>\n",
       "      <td>1991</td>\n",
       "    </tr>\n",
       "  </tbody>\n",
       "</table>\n",
       "<p>5 rows × 32 columns</p>\n",
       "</div>"
      ],
      "text/plain": [
       "  IMPUTED     Soil  a_stories  appr_bldg  b_stories             bldg_id  \\\n",
       "0       F   Upland          1     163315          0   018060  00010_2_1   \n",
       "1       F   Upland          3     524485          1   018060  00010_1_1   \n",
       "2       F   Upland         13   49457042          1  016001  00001C_1_1   \n",
       "3       F  Lowland          3     367311          2   012008  00012_1_1   \n",
       "4       F   Upland          2    1027399          0  001041  00001C_8_1   \n",
       "\n",
       "     broad_occ        bsmt_type   cont_val          dgn_lvl    ...      \\\n",
       "0  Health Care             NONE    2042598  Moderate - Code    ...       \n",
       "1  Health Care  COMMERCIAL BSMT    6363539       Pre - Code    ...       \n",
       "2  Health Care  COMMERCIAL BSMT  251974698       Pre - Code    ...       \n",
       "3  Health Care  COMMERCIAL BSMT   21677039       Pre - Code    ...       \n",
       "4  Health Care             NONE   10456153  Moderate - Code    ...       \n",
       "\n",
       "            parid        parid_card   repl_cst  sq_foot   str_cst str_prob  \\\n",
       "0   018060  00010   018060  00010_2    1361732     6062    186557  1.00000   \n",
       "1   018060  00010   018060  00010_1    4242359    19468    547264  1.00000   \n",
       "2  016001  00001C  016001  00001C_1  167983132   910583  21669824  0.95161   \n",
       "3   012008  00012   012008  00012_1   14451359    65112   1864225  0.88908   \n",
       "4  001041  00001C  001041  00001C_8    6970769    32094    954995  0.64700   \n",
       "\n",
       "   str_typ2  struct_typ     tract_id year_built  \n",
       "0       C1L          C1  47157003800       1978  \n",
       "1       C1L          C1  47157003800       1925  \n",
       "2       S1H          S1  47157003600       1924  \n",
       "3      URML         URM  47157005200       1910  \n",
       "4       S1L          S1  47157002200       1991  \n",
       "\n",
       "[5 rows x 32 columns]"
      ]
     },
     "execution_count": 10,
     "metadata": {},
     "output_type": "execute_result"
    }
   ],
   "source": [
    "gdf.head()"
   ]
  },
  {
   "cell_type": "code",
   "execution_count": 11,
   "metadata": {},
   "outputs": [
    {
     "name": "stdout",
     "output_type": "stream",
     "text": [
      "{   'STR_PFM_MTB_UL_475_C1_1': {   'authors': [   'Amr S. Elnashai',\n",
      "                                                  'Seong-Hoon Jeong',\n",
      "                                                  'Joshua S. Steelman'],\n",
      "                                   'demandType': 'PGA',\n",
      "                                   'demandUnits': 'g',\n",
      "                                   'description': 'Low-Rise Concrete Moment '\n",
      "                                                  'Frame',\n",
      "                                   'fragilityCurves': [   {   'beta': 0.414,\n",
      "                                                              'className': 'edu.illinois.ncsa.incore.service.fragility.models.PeriodStandardFragilityCurve',\n",
      "                                                              'curveType': 'LogNormal',\n",
      "                                                              'description': 'Moderate',\n",
      "                                                              'median': -1.597,\n",
      "                                                              'periodEqnType': 1,\n",
      "                                                              'periodParam0': 0.4,\n",
      "                                                              'periodParam1': 0.0,\n",
      "                                                              'periodParam2': 0.0},\n",
      "                                                          {   'beta': 0.414,\n",
      "                                                              'className': 'edu.illinois.ncsa.incore.service.fragility.models.PeriodStandardFragilityCurve',\n",
      "                                                              'curveType': 'LogNormal',\n",
      "                                                              'description': 'Extensive',\n",
      "                                                              'median': -0.986,\n",
      "                                                              'periodEqnType': 1,\n",
      "                                                              'periodParam0': 0.4,\n",
      "                                                              'periodParam1': 0.0,\n",
      "                                                              'periodParam2': 0.0},\n",
      "                                                          {   'beta': 0.414,\n",
      "                                                              'className': 'edu.illinois.ncsa.incore.service.fragility.models.PeriodStandardFragilityCurve',\n",
      "                                                              'curveType': 'LogNormal',\n",
      "                                                              'description': 'Complete',\n",
      "                                                              'median': -0.375,\n",
      "                                                              'periodEqnType': 1,\n",
      "                                                              'periodParam0': 0.4,\n",
      "                                                              'periodParam1': 0.0,\n",
      "                                                              'periodParam2': 0.0}],\n",
      "                                   'hazardType': 'Seismic',\n",
      "                                   'id': '5894e7121a74393018c3db7e',\n",
      "                                   'inventoryType': 'Building',\n",
      "                                   'legacyId': 'STR_PFM_MTB_UL_475_C1_1',\n",
      "                                   'paperReference': None,\n",
      "                                   'resultType': 'Limit State',\n",
      "                                   'resultUnit': None}}\n"
     ]
    },
    {
     "data": {
      "image/png": "[encoded data removed]",
      "text/plain": [
       "<matplotlib.figure.Figure at 0x16df46e74e0>"
      ]
     },
     "metadata": {},
     "output_type": "display_data"
    },
    {
     "name": "stdout",
     "output_type": "stream",
     "text": [
      "(-90.02584943848801, 35.140197417765144)\n",
      "0.30999643014594325\n"
     ]
    },
    {
     "ename": "KeyError",
     "evalue": "'fragilityCurves'",
     "output_type": "error",
     "traceback": [
      "\u001b[1;31m---------------------------------------------------------------------------\u001b[0m",
      "\u001b[1;31mKeyError\u001b[0m                                  Traceback (most recent call last)",
      "\u001b[1;32m<ipython-input-11-ae2c8a1fbf4e>\u001b[0m in \u001b[0;36m<module>\u001b[1;34m()\u001b[0m\n\u001b[0;32m     13\u001b[0m     \u001b[0mhaz_val\u001b[0m \u001b[1;33m=\u001b[0m \u001b[0mHazardService\u001b[0m\u001b[1;33m.\u001b[0m\u001b[0mget_hazard_value\u001b[0m\u001b[1;33m(\u001b[0m\u001b[1;34m\"http://localhost:8080\"\u001b[0m\u001b[1;33m,\u001b[0m \u001b[1;34m\"59f8e10004c01e79c4a67a88\"\u001b[0m\u001b[1;33m,\u001b[0m \u001b[1;34m\"PGA\"\u001b[0m\u001b[1;33m,\u001b[0m \u001b[1;34m\"g\"\u001b[0m\u001b[1;33m,\u001b[0m \u001b[0mlatlon\u001b[0m\u001b[1;33m[\u001b[0m\u001b[1;36m1\u001b[0m\u001b[1;33m]\u001b[0m\u001b[1;33m,\u001b[0m \u001b[0mlatlon\u001b[0m\u001b[1;33m[\u001b[0m\u001b[1;36m0\u001b[0m\u001b[1;33m]\u001b[0m\u001b[1;33m)\u001b[0m\u001b[1;33m\u001b[0m\u001b[0m\n\u001b[0;32m     14\u001b[0m     \u001b[0mpp\u001b[0m\u001b[1;33m.\u001b[0m\u001b[0mpprint\u001b[0m\u001b[1;33m(\u001b[0m\u001b[0mhaz_val\u001b[0m\u001b[1;33m)\u001b[0m\u001b[1;33m\u001b[0m\u001b[0m\n\u001b[1;32m---> 15\u001b[1;33m     \u001b[0mdamage\u001b[0m \u001b[1;33m=\u001b[0m \u001b[0mComputeDamage\u001b[0m\u001b[1;33m.\u001b[0m\u001b[0mcalculate_damage_json2\u001b[0m\u001b[1;33m(\u001b[0m\u001b[0mfragility_set\u001b[0m\u001b[1;33m,\u001b[0m \u001b[0mhaz_val\u001b[0m\u001b[1;33m)\u001b[0m\u001b[1;33m\u001b[0m\u001b[0m\n\u001b[0m\u001b[0;32m     16\u001b[0m     \u001b[0mpp\u001b[0m\u001b[1;33m.\u001b[0m\u001b[0mpprint\u001b[0m\u001b[1;33m(\u001b[0m\u001b[0mdamage\u001b[0m\u001b[1;33m)\u001b[0m\u001b[1;33m\u001b[0m\u001b[0m\n\u001b[0;32m     17\u001b[0m     \u001b[1;32mbreak\u001b[0m\u001b[1;33m\u001b[0m\u001b[0m\n",
      "\u001b[1;32mD:\\jonglee1\\git\\pyincore\\pyincore\\pyincore.py\u001b[0m in \u001b[0;36mcalculate_damage_json2\u001b[1;34m(fragility_set, hazard)\u001b[0m\n\u001b[0;32m    333\u001b[0m     \u001b[1;32mdef\u001b[0m \u001b[0mcalculate_damage_json2\u001b[0m\u001b[1;33m(\u001b[0m\u001b[0mfragility_set\u001b[0m\u001b[1;33m,\u001b[0m \u001b[0mhazard\u001b[0m\u001b[1;33m)\u001b[0m\u001b[1;33m:\u001b[0m\u001b[1;33m\u001b[0m\u001b[0m\n\u001b[0;32m    334\u001b[0m         \u001b[1;31m# using the \"description\" for limit_state\u001b[0m\u001b[1;33m\u001b[0m\u001b[1;33m\u001b[0m\u001b[0m\n\u001b[1;32m--> 335\u001b[1;33m         \u001b[0mfragility_curves\u001b[0m \u001b[1;33m=\u001b[0m \u001b[0mfragility_set\u001b[0m\u001b[1;33m[\u001b[0m\u001b[1;34m'fragilityCurves'\u001b[0m\u001b[1;33m]\u001b[0m\u001b[1;33m\u001b[0m\u001b[0m\n\u001b[0m\u001b[0;32m    336\u001b[0m         \u001b[0moutput\u001b[0m \u001b[1;33m=\u001b[0m \u001b[0mcollections\u001b[0m\u001b[1;33m.\u001b[0m\u001b[0mOrderedDict\u001b[0m\u001b[1;33m(\u001b[0m\u001b[1;33m)\u001b[0m\u001b[1;33m\u001b[0m\u001b[0m\n\u001b[0;32m    337\u001b[0m \u001b[1;33m\u001b[0m\u001b[0m\n",
      "\u001b[1;31mKeyError\u001b[0m: 'fragilityCurves'"
     ]
    }
   ],
   "source": [
    "from pyincore import HazardService\n",
    "for building in hospital.inventory_set:\n",
    "    fragility_set = FragilityService.map_fragility('http://localhost:8080', building, \"Non-Retrofit Fragility ID Code\")\n",
    "    pp.pprint(fragility_set)\n",
    "    for curve in fs['fragilityCurves']:\n",
    "        x,y = PlotUtil.get_x_y(curve['curveType'],curve['median'],curve['beta'])\n",
    "        plt.plot(x,y, label=curve['description'])\n",
    "    plt.xlabel(fs['demandType']+\" (\"+fs['demandUnits']+\")\")\n",
    "    plt.legend()\n",
    "    plt.show()\n",
    "    latlon = building['geometry']['coordinates']\n",
    "    pp.pprint(latlon)\n",
    "    haz_val = HazardService.get_hazard_value(\"http://localhost:8080\", \"59f8e10004c01e79c4a67a88\", \"PGA\", \"g\", latlon[1], latlon[0])\n",
    "    pp.pprint(haz_val)\n",
    "    damage = ComputeDamage.calculate_damage_json2(fragility_set, haz_val)\n",
    "    pp.pprint(damage)\n",
    "    break"
   ]
  },
  {
   "cell_type": "code",
   "execution_count": null,
   "metadata": {},
   "outputs": [],
   "source": [
    "building = next(iter(hospital.inventory_set))"
   ]
  },
  {
   "cell_type": "code",
   "execution_count": null,
   "metadata": {},
   "outputs": [],
   "source": [
    "fragility_set = FragilityService.map_fragility('http://localhost:8080', building, \"Non-Retrofit Fragility ID Code\")\n",
    "pp.pprint(fragility_set)\n",
    "for curve in fs['fragilityCurves']:\n",
    "    x,y = PlotUtil.get_x_y(curve['curveType'],curve['median'],curve['beta'])\n",
    "    plt.plot(x,y, label=curve['description'])\n",
    "plt.xlabel(fs['demandType']+\" (\"+fs['demandUnits']+\")\")\n",
    "plt.legend()\n",
    "plt.show()"
   ]
  },
  {
   "cell_type": "code",
   "execution_count": null,
   "metadata": {
    "collapsed": true
   },
   "outputs": [],
   "source": [
    "latlon = building['geometry']['coordinates']\n",
    "pp.pprint(latlon)"
   ]
  },
  {
   "cell_type": "code",
   "execution_count": null,
   "metadata": {
    "collapsed": true
   },
   "outputs": [],
   "source": []
  },
  {
   "cell_type": "code",
   "execution_count": null,
   "metadata": {
    "collapsed": true
   },
   "outputs": [],
   "source": []
  }
 ],
 "metadata": {
  "kernelspec": {
   "display_name": "Python 3",
   "language": "python",
   "name": "python3"
  },
  "language_info": {
   "codemirror_mode": {
    "name": "ipython",
    "version": 3
   },
   "file_extension": ".py",
   "mimetype": "text/x-python",
   "name": "python",
   "nbconvert_exporter": "python",
   "pygments_lexer": "ipython3",
   "version": "3.6.2"
  }
 },
 "nbformat": 4,
 "nbformat_minor": 2
}
