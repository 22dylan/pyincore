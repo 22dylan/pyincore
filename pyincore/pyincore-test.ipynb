{
 "cells": [
  {
   "cell_type": "code",
   "execution_count": 35,
   "metadata": {
    "collapsed": true
   },
   "outputs": [],
   "source": [
    "from pyincore import FragilityService, DataService, HazardService, ComputeDamage\n",
    "from pyincore import PlotUtil\n",
    "from pyincore import InventoryDataset\n",
    "import pprint\n",
    "pp = pprint.PrettyPrinter(indent=4)"
   ]
  },
  {
   "cell_type": "markdown",
   "metadata": {},
   "source": [
    "Getting a Fragility Set from the service"
   ]
  },
  {
   "cell_type": "markdown",
   "metadata": {},
   "source": [
    "Print Fragility Set obtained from fragility service"
   ]
  },
  {
   "cell_type": "code",
   "execution_count": 21,
   "metadata": {},
   "outputs": [
    {
     "name": "stdout",
     "output_type": "stream",
     "text": [
      "{   'contributors': [],\n",
      "    'creator': None,\n",
      "    'date': '2017-10-27T11:40:29-0500',\n",
      "    'deleted': False,\n",
      "    'description': '',\n",
      "    'fileDescriptors': [   {   'dataURL': 'file:/C:/Rest/59/f3/59f3617de1b2b828641a012c/Hospitals1228337472406.mvz',\n",
      "                               'deleted': False,\n",
      "                               'filename': 'Hospitals1228337472406.mvz',\n",
      "                               'id': '59f3617de1b2b828641a012c',\n",
      "                               'md5sum': 'b14425c3394e923709d7994f433af48e',\n",
      "                               'mimeType': 'application/octet-stream',\n",
      "                               'size': 1554},\n",
      "                           {   'dataURL': 'file:/C:/Rest/59/f3/59f3617de1b2b828641a012f/all_bldgs_ver5_WGS1984.dbf',\n",
      "                               'deleted': False,\n",
      "                               'filename': 'all_bldgs_ver5_WGS1984.dbf',\n",
      "                               'id': '59f3617de1b2b828641a012f',\n",
      "                               'md5sum': '7ea0a4c769ca254a6b4821f2e737eb35',\n",
      "                               'mimeType': 'application/octet-stream',\n",
      "                               'size': 10859},\n",
      "                           {   'dataURL': 'file:/C:/Rest/59/f3/59f3617de1b2b828641a0132/all_bldgs_ver5_WGS1984.fix',\n",
      "                               'deleted': False,\n",
      "                               'filename': 'all_bldgs_ver5_WGS1984.fix',\n",
      "                               'id': '59f3617de1b2b828641a0132',\n",
      "                               'md5sum': '15c08cc1fac086265cb57ceac0785acb',\n",
      "                               'mimeType': 'application/octet-stream',\n",
      "                               'size': 277},\n",
      "                           {   'dataURL': 'file:/C:/Rest/59/f3/59f3617de1b2b828641a0135/all_bldgs_ver5_WGS1984.prj',\n",
      "                               'deleted': False,\n",
      "                               'filename': 'all_bldgs_ver5_WGS1984.prj',\n",
      "                               'id': '59f3617de1b2b828641a0135',\n",
      "                               'md5sum': '30e5566d68356bfc059d296c42c0480e',\n",
      "                               'mimeType': 'application/octet-stream',\n",
      "                               'size': 205},\n",
      "                           {   'dataURL': 'file:/C:/Rest/59/f3/59f3617de1b2b828641a0138/all_bldgs_ver5_WGS1984.qix',\n",
      "                               'deleted': False,\n",
      "                               'filename': 'all_bldgs_ver5_WGS1984.qix',\n",
      "                               'id': '59f3617de1b2b828641a0138',\n",
      "                               'md5sum': 'a1cba745192516c7e1cd0e4d4d13497c',\n",
      "                               'mimeType': 'application/octet-stream',\n",
      "                               'size': 632},\n",
      "                           {   'dataURL': 'file:/C:/Rest/59/f3/59f3617de1b2b828641a013b/all_bldgs_ver5_WGS1984.shp',\n",
      "                               'deleted': False,\n",
      "                               'filename': 'all_bldgs_ver5_WGS1984.shp',\n",
      "                               'id': '59f3617de1b2b828641a013b',\n",
      "                               'md5sum': '6e1e96c4a6cf5762317054fe813d82bf',\n",
      "                               'mimeType': 'application/octet-stream',\n",
      "                               'size': 716},\n",
      "                           {   'dataURL': 'file:/C:/Rest/59/f3/59f3617de1b2b828641a013e/all_bldgs_ver5_WGS1984.shx',\n",
      "                               'deleted': False,\n",
      "                               'filename': 'all_bldgs_ver5_WGS1984.shx',\n",
      "                               'id': '59f3617de1b2b828641a013e',\n",
      "                               'md5sum': '799965579a991f1f45afeb22c07c5ece',\n",
      "                               'mimeType': 'application/octet-stream',\n",
      "                               'size': 276}],\n",
      "    'format': 'shapefile',\n",
      "    'id': '59f3617de1b2b828641a012a',\n",
      "    'sourceDataset': '',\n",
      "    'spaces': ['earthquake'],\n",
      "    'storedUrl': '',\n",
      "    'title': 'Hospitals',\n",
      "    'type': 'edu.illinois.ncsa.ergo.eq.buildings.schemas.buildingInventoryVer5.v1.0'}\n"
     ]
    }
   ],
   "source": [
    "metadata = DataService.get_dataset_metadata('http://localhost:8080', '59f3617de1b2b828641a012a')\n",
    "metadata"
   ]
  },
  {
   "cell_type": "code",
   "execution_count": null,
   "metadata": {
    "collapsed": true
   },
   "outputs": [],
   "source": []
  },
  {
   "cell_type": "code",
   "execution_count": 22,
   "metadata": {},
   "outputs": [
    {
     "name": "stdout",
     "output_type": "stream",
     "text": [
      "It already exsists; no unzip\n"
     ]
    }
   ],
   "source": [
    "localfile = DataService.get_dataset('http://localhost:8080', '59f3617de1b2b828641a012a')\n",
    "hospital = InventoryDataset(localfile)"
   ]
  },
  {
   "cell_type": "code",
   "execution_count": 23,
   "metadata": {},
   "outputs": [],
   "source": [
    "import geopandas as gpd\n",
    "gdf = gpd.GeoDataFrame.from_features(hospital.inventory_set)\n",
    "#hospital= gpd.read_file('data/Hospitals1228337472406', layer='all_bldgs_ver5_WGS1984')"
   ]
  },
  {
   "cell_type": "code",
   "execution_count": 24,
   "metadata": {},
   "outputs": [
    {
     "data": {
      "text/plain": [
       "<matplotlib.axes._subplots.AxesSubplot at 0x19b2325f208>"
      ]
     },
     "execution_count": 24,
     "metadata": {},
     "output_type": "execute_result"
    },
    {
     "data": {
      "image/png": "[encoded data removed]",
      "text/plain": [
       "<matplotlib.figure.Figure at 0x19b231d81d0>"
      ]
     },
     "metadata": {},
     "output_type": "display_data"
    }
   ],
   "source": [
    "%matplotlib inline\n",
    "import matplotlib.pylab as pylab\n",
    "import matplotlib.pyplot as plt\n",
    "pylab.rcParams['figure.figsize'] = 8, 6\n",
    "gdf.plot()"
   ]
  },
  {
   "cell_type": "code",
   "execution_count": 25,
   "metadata": {},
   "outputs": [
    {
     "data": {
      "text/html": [
       "<div>\n",
       "<style scoped>\n",
       "    .dataframe tbody tr th:only-of-type {\n",
       "        vertical-align: middle;\n",
       "    }\n",
       "\n",
       "    .dataframe tbody tr th {\n",
       "        vertical-align: top;\n",
       "    }\n",
       "\n",
       "    .dataframe thead th {\n",
       "        text-align: right;\n",
       "    }\n",
       "</style>\n",
       "<table border=\"1\" class=\"dataframe\">\n",
       "  <thead>\n",
       "    <tr style=\"text-align: right;\">\n",
       "      <th></th>\n",
       "      <th>IMPUTED</th>\n",
       "      <th>Soil</th>\n",
       "      <th>a_stories</th>\n",
       "      <th>appr_bldg</th>\n",
       "      <th>b_stories</th>\n",
       "      <th>bldg_id</th>\n",
       "      <th>broad_occ</th>\n",
       "      <th>bsmt_type</th>\n",
       "      <th>cont_val</th>\n",
       "      <th>dgn_lvl</th>\n",
       "      <th>...</th>\n",
       "      <th>parid</th>\n",
       "      <th>parid_card</th>\n",
       "      <th>repl_cst</th>\n",
       "      <th>sq_foot</th>\n",
       "      <th>str_cst</th>\n",
       "      <th>str_prob</th>\n",
       "      <th>str_typ2</th>\n",
       "      <th>struct_typ</th>\n",
       "      <th>tract_id</th>\n",
       "      <th>year_built</th>\n",
       "    </tr>\n",
       "  </thead>\n",
       "  <tbody>\n",
       "    <tr>\n",
       "      <th>0</th>\n",
       "      <td>F</td>\n",
       "      <td>Upland</td>\n",
       "      <td>1</td>\n",
       "      <td>163315</td>\n",
       "      <td>0</td>\n",
       "      <td>018060  00010_2_1</td>\n",
       "      <td>Health Care</td>\n",
       "      <td>NONE</td>\n",
       "      <td>2042598</td>\n",
       "      <td>Moderate - Code</td>\n",
       "      <td>...</td>\n",
       "      <td>018060  00010</td>\n",
       "      <td>018060  00010_2</td>\n",
       "      <td>1361732</td>\n",
       "      <td>6062</td>\n",
       "      <td>186557</td>\n",
       "      <td>1.00000</td>\n",
       "      <td>C1L</td>\n",
       "      <td>C1</td>\n",
       "      <td>47157003800</td>\n",
       "      <td>1978</td>\n",
       "    </tr>\n",
       "    <tr>\n",
       "      <th>1</th>\n",
       "      <td>F</td>\n",
       "      <td>Upland</td>\n",
       "      <td>3</td>\n",
       "      <td>524485</td>\n",
       "      <td>1</td>\n",
       "      <td>018060  00010_1_1</td>\n",
       "      <td>Health Care</td>\n",
       "      <td>COMMERCIAL BSMT</td>\n",
       "      <td>6363539</td>\n",
       "      <td>Pre - Code</td>\n",
       "      <td>...</td>\n",
       "      <td>018060  00010</td>\n",
       "      <td>018060  00010_1</td>\n",
       "      <td>4242359</td>\n",
       "      <td>19468</td>\n",
       "      <td>547264</td>\n",
       "      <td>1.00000</td>\n",
       "      <td>C1L</td>\n",
       "      <td>C1</td>\n",
       "      <td>47157003800</td>\n",
       "      <td>1925</td>\n",
       "    </tr>\n",
       "    <tr>\n",
       "      <th>2</th>\n",
       "      <td>F</td>\n",
       "      <td>Upland</td>\n",
       "      <td>13</td>\n",
       "      <td>49457042</td>\n",
       "      <td>1</td>\n",
       "      <td>016001  00001C_1_1</td>\n",
       "      <td>Health Care</td>\n",
       "      <td>COMMERCIAL BSMT</td>\n",
       "      <td>251974698</td>\n",
       "      <td>Pre - Code</td>\n",
       "      <td>...</td>\n",
       "      <td>016001  00001C</td>\n",
       "      <td>016001  00001C_1</td>\n",
       "      <td>167983132</td>\n",
       "      <td>910583</td>\n",
       "      <td>21669824</td>\n",
       "      <td>0.95161</td>\n",
       "      <td>S1H</td>\n",
       "      <td>S1</td>\n",
       "      <td>47157003600</td>\n",
       "      <td>1924</td>\n",
       "    </tr>\n",
       "    <tr>\n",
       "      <th>3</th>\n",
       "      <td>F</td>\n",
       "      <td>Lowland</td>\n",
       "      <td>3</td>\n",
       "      <td>367311</td>\n",
       "      <td>2</td>\n",
       "      <td>012008  00012_1_1</td>\n",
       "      <td>Health Care</td>\n",
       "      <td>COMMERCIAL BSMT</td>\n",
       "      <td>21677039</td>\n",
       "      <td>Pre - Code</td>\n",
       "      <td>...</td>\n",
       "      <td>012008  00012</td>\n",
       "      <td>012008  00012_1</td>\n",
       "      <td>14451359</td>\n",
       "      <td>65112</td>\n",
       "      <td>1864225</td>\n",
       "      <td>0.88908</td>\n",
       "      <td>URML</td>\n",
       "      <td>URM</td>\n",
       "      <td>47157005200</td>\n",
       "      <td>1910</td>\n",
       "    </tr>\n",
       "    <tr>\n",
       "      <th>4</th>\n",
       "      <td>F</td>\n",
       "      <td>Upland</td>\n",
       "      <td>2</td>\n",
       "      <td>1027399</td>\n",
       "      <td>0</td>\n",
       "      <td>001041  00001C_8_1</td>\n",
       "      <td>Health Care</td>\n",
       "      <td>NONE</td>\n",
       "      <td>10456153</td>\n",
       "      <td>Moderate - Code</td>\n",
       "      <td>...</td>\n",
       "      <td>001041  00001C</td>\n",
       "      <td>001041  00001C_8</td>\n",
       "      <td>6970769</td>\n",
       "      <td>32094</td>\n",
       "      <td>954995</td>\n",
       "      <td>0.64700</td>\n",
       "      <td>S1L</td>\n",
       "      <td>S1</td>\n",
       "      <td>47157002200</td>\n",
       "      <td>1991</td>\n",
       "    </tr>\n",
       "  </tbody>\n",
       "</table>\n",
       "<p>5 rows × 32 columns</p>\n",
       "</div>"
      ],
      "text/plain": [
       "  IMPUTED     Soil  a_stories  appr_bldg  b_stories             bldg_id  \\\n",
       "0       F   Upland          1     163315          0   018060  00010_2_1   \n",
       "1       F   Upland          3     524485          1   018060  00010_1_1   \n",
       "2       F   Upland         13   49457042          1  016001  00001C_1_1   \n",
       "3       F  Lowland          3     367311          2   012008  00012_1_1   \n",
       "4       F   Upland          2    1027399          0  001041  00001C_8_1   \n",
       "\n",
       "     broad_occ        bsmt_type   cont_val          dgn_lvl    ...      \\\n",
       "0  Health Care             NONE    2042598  Moderate - Code    ...       \n",
       "1  Health Care  COMMERCIAL BSMT    6363539       Pre - Code    ...       \n",
       "2  Health Care  COMMERCIAL BSMT  251974698       Pre - Code    ...       \n",
       "3  Health Care  COMMERCIAL BSMT   21677039       Pre - Code    ...       \n",
       "4  Health Care             NONE   10456153  Moderate - Code    ...       \n",
       "\n",
       "            parid        parid_card   repl_cst  sq_foot   str_cst str_prob  \\\n",
       "0   018060  00010   018060  00010_2    1361732     6062    186557  1.00000   \n",
       "1   018060  00010   018060  00010_1    4242359    19468    547264  1.00000   \n",
       "2  016001  00001C  016001  00001C_1  167983132   910583  21669824  0.95161   \n",
       "3   012008  00012   012008  00012_1   14451359    65112   1864225  0.88908   \n",
       "4  001041  00001C  001041  00001C_8    6970769    32094    954995  0.64700   \n",
       "\n",
       "   str_typ2  struct_typ     tract_id year_built  \n",
       "0       C1L          C1  47157003800       1978  \n",
       "1       C1L          C1  47157003800       1925  \n",
       "2       S1H          S1  47157003600       1924  \n",
       "3      URML         URM  47157005200       1910  \n",
       "4       S1L          S1  47157002200       1991  \n",
       "\n",
       "[5 rows x 32 columns]"
      ]
     },
     "execution_count": 25,
     "metadata": {},
     "output_type": "execute_result"
    }
   ],
   "source": [
    "gdf.head()"
   ]
  },
  {
   "cell_type": "code",
   "execution_count": 26,
   "metadata": {},
   "outputs": [
    {
     "data": {
      "text/html": [
       "<div style=\"width:100%;\"><div style=\"position:relative;width:100%;height:0;padding-bottom:60%;\"><iframe src=\"data:text/html;charset=utf-8;base64,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\" style=\"position:absolute;width:100%;height:100%;left:0;top:0;border:none !important;\" allowfullscreen webkitallowfullscreen mozallowfullscreen></iframe></div></div>"
      ],
      "text/plain": [
       "<folium.folium.Map at 0x19b23251cc0>"
      ]
     },
     "execution_count": 26,
     "metadata": {},
     "output_type": "execute_result"
    }
   ],
   "source": [
    "import folium\n",
    "\n",
    "m = folium.Map()\n",
    "folium.GeoJson(gdf.to_json(), name='hospital').add_to(m)\n",
    "ext = gdf.total_bounds\n",
    "m.fit_bounds([[ext[1], ext[0]], [ext[3], ext[2]]])\n",
    "m"
   ]
  },
  {
   "cell_type": "code",
   "execution_count": 27,
   "metadata": {
    "collapsed": true
   },
   "outputs": [],
   "source": [
    "building = next(iter(hospital.inventory_set))"
   ]
  },
  {
   "cell_type": "code",
   "execution_count": 29,
   "metadata": {},
   "outputs": [
    {
     "name": "stdout",
     "output_type": "stream",
     "text": [
      "{   'authors': ['Amr S. Elnashai', 'Seong-Hoon Jeong', 'Joshua S. Steelman'],\n",
      "    'demandType': 'PGA',\n",
      "    'demandUnits': 'g',\n",
      "    'description': 'Low-Rise Concrete Moment Frame',\n",
      "    'fragilityCurves': [   {   'beta': 0.414,\n",
      "                               'className': 'edu.illinois.ncsa.incore.service.fragility.models.PeriodStandardFragilityCurve',\n",
      "                               'curveType': 'LogNormal',\n",
      "                               'description': 'Moderate',\n",
      "                               'median': -1.597,\n",
      "                               'periodEqnType': 1,\n",
      "                               'periodParam0': 0.4,\n",
      "                               'periodParam1': 0.0,\n",
      "                               'periodParam2': 0.0},\n",
      "                           {   'beta': 0.414,\n",
      "                               'className': 'edu.illinois.ncsa.incore.service.fragility.models.PeriodStandardFragilityCurve',\n",
      "                               'curveType': 'LogNormal',\n",
      "                               'description': 'Extensive',\n",
      "                               'median': -0.986,\n",
      "                               'periodEqnType': 1,\n",
      "                               'periodParam0': 0.4,\n",
      "                               'periodParam1': 0.0,\n",
      "                               'periodParam2': 0.0},\n",
      "                           {   'beta': 0.414,\n",
      "                               'className': 'edu.illinois.ncsa.incore.service.fragility.models.PeriodStandardFragilityCurve',\n",
      "                               'curveType': 'LogNormal',\n",
      "                               'description': 'Complete',\n",
      "                               'median': -0.375,\n",
      "                               'periodEqnType': 1,\n",
      "                               'periodParam0': 0.4,\n",
      "                               'periodParam1': 0.0,\n",
      "                               'periodParam2': 0.0}],\n",
      "    'hazardType': 'Seismic',\n",
      "    'id': '5894e7121a74393018c3db7e',\n",
      "    'inventoryType': 'Building',\n",
      "    'legacyId': 'STR_PFM_MTB_UL_475_C1_1',\n",
      "    'paperReference': None,\n",
      "    'resultType': 'Limit State',\n",
      "    'resultUnit': None}\n"
     ]
    },
    {
     "data": {
      "image/png": "[encoded data removed]",
      "text/plain": [
       "<matplotlib.figure.Figure at 0x19b232e72b0>"
      ]
     },
     "metadata": {},
     "output_type": "display_data"
    }
   ],
   "source": [
    "fragility_set = FragilityService.map_fragility('http://localhost:8080', building, \"Non-Retrofit Fragility ID Code\")\n",
    "pp.pprint(fragility_set)\n",
    "for curve in fragility_set['fragilityCurves']:\n",
    "    x,y = PlotUtil.get_x_y(curve['curveType'],curve['median'],curve['beta'])\n",
    "    plt.plot(x,y, label=curve['description'])\n",
    "plt.xlabel(fragility_set['demandType']+\" (\"+fragility_set['demandUnits']+\")\")\n",
    "plt.legend()\n",
    "plt.show()"
   ]
  },
  {
   "cell_type": "code",
   "execution_count": 31,
   "metadata": {},
   "outputs": [
    {
     "name": "stdout",
     "output_type": "stream",
     "text": [
      "(-90.02584943848801, 35.140197417765144)\n"
     ]
    }
   ],
   "source": [
    "latlon = building['geometry']['coordinates']\n",
    "pp.pprint(latlon)"
   ]
  },
  {
   "cell_type": "code",
   "execution_count": 33,
   "metadata": {},
   "outputs": [
    {
     "data": {
      "text/plain": [
       "0.30999643014594325"
      ]
     },
     "execution_count": 33,
     "metadata": {},
     "output_type": "execute_result"
    }
   ],
   "source": [
    "haz_val = HazardService.get_hazard_value(\"http://localhost:8080\", \"59f8e10004c01e79c4a67a88\", \"PGA\", \"g\", latlon[1], latlon[0])\n",
    "haz_val"
   ]
  },
  {
   "cell_type": "code",
   "execution_count": 37,
   "metadata": {},
   "outputs": [
    {
     "data": {
      "text/plain": [
       "OrderedDict([('Moderate', 0.84814634694098445),\n",
       "             ('Extensive', 0.32731851169389337),\n",
       "             ('Complete', 0.027229030747067989)])"
      ]
     },
     "execution_count": 37,
     "metadata": {},
     "output_type": "execute_result"
    }
   ],
   "source": [
    "damage = ComputeDamage.calculate_damage_json2(fragility_set, haz_val)\n",
    "damage"
   ]
  },
  {
   "cell_type": "code",
   "execution_count": null,
   "metadata": {
    "collapsed": true
   },
   "outputs": [],
   "source": []
  }
 ],
 "metadata": {
  "kernelspec": {
   "display_name": "Python 3",
   "language": "python",
   "name": "python3"
  },
  "language_info": {
   "codemirror_mode": {
    "name": "ipython",
    "version": 3
   },
   "file_extension": ".py",
   "mimetype": "text/x-python",
   "name": "python",
   "nbconvert_exporter": "python",
   "pygments_lexer": "ipython3",
   "version": "3.6.2"
  }
 },
 "nbformat": 4,
 "nbformat_minor": 2
}
